{
  "cells": [
    {
      "cell_type": "markdown",
      "metadata": {
        "id": "JXddgEVGWoD2"
      },
      "source": [
        "# OCR em vídeos - com Tesseract e EAST"
      ]
    },
    {
      "cell_type": "code",
      "execution_count": null,
      "metadata": {},
      "outputs": [],
      "source": [
        "# Baixar imagens para o laboratório.\n",
        "!wget https://github.com/fabiobento/ocr-sis-emb-2024-2/raw/refs/heads/main/imagens.zip\n",
        "!unzip -n -q imagens.zip\n",
        "\n",
        "# Baixar fontes para o laboratório\n",
        "!wget https://github.com/fabiobento/ocr-sis-emb-2024-2/raw/refs/heads/main/fontes.zip\n",
        "!unzip -n -q fontes.zip"
      ]
    },
    {
      "cell_type": "markdown",
      "metadata": {
        "id": "cNO7hZURrd3m"
      },
      "source": [
        "# Importando as bibliotecas"
      ]
    },
    {
      "cell_type": "code",
      "execution_count": null,
      "metadata": {
        "id": "GvyXa4yn5Mf1"
      },
      "outputs": [],
      "source": [
        "import cv2\n",
        "import imutils\n",
        "import numpy as np\n",
        "from matplotlib import pyplot as plt\n",
        "from google.colab.patches import cv2_imshow\n",
        "from imutils.object_detection import non_max_suppression\n",
        "from PIL import Image\n",
        "from PIL import ImageFont, ImageDraw, Image"
      ]
    },
    {
      "cell_type": "markdown",
      "metadata": {
        "id": "sO0ttULZopt1"
      },
      "source": [
        "# Conectando com o Google Drive"
      ]
    },
    {
      "cell_type": "code",
      "execution_count": null,
      "metadata": {
        "colab": {
          "base_uri": "https://localhost:8080/"
        },
        "id": "wH85JRHvvyBW",
        "outputId": "454902e8-1bba-462d-c9a6-30ab6dd9afc4"
      },
      "outputs": [],
      "source": [
        "from google.colab import drive\n",
        "drive.mount('/content/gdrive')"
      ]
    },
    {
      "cell_type": "markdown",
      "metadata": {
        "id": "9qTpBBbXq8-3"
      },
      "source": [
        "# Configuração do Tesseract"
      ]
    },
    {
      "cell_type": "code",
      "execution_count": null,
      "metadata": {
        "colab": {
          "base_uri": "https://localhost:8080/"
        },
        "id": "axj2qKxKq_hs",
        "outputId": "1c917740-aa99-478e-fb62-5f232e0d8a97"
      },
      "outputs": [],
      "source": [
        "!sudo apt install tesseract-ocr\n",
        "!pip install pytesseract\n",
        "!mkdir tessdata\n",
        "!wget -O ./tessdata/por.traineddata https://github.com/tesseract-ocr/tessdata/blob/main/por.traineddata?raw=true\n",
        "\n",
        "import pytesseract"
      ]
    },
    {
      "cell_type": "code",
      "execution_count": null,
      "metadata": {
        "id": "ZPeyQYm5rHC4"
      },
      "outputs": [],
      "source": [
        "config_tesseract = \"--tessdata-dir tessdata --psm 7\""
      ]
    },
    {
      "cell_type": "code",
      "execution_count": null,
      "metadata": {
        "id": "HpMmHBgywbsd"
      },
      "outputs": [],
      "source": [
        "def tesseract_OCR(img, config_tesseract):\n",
        "  texto = pytesseract.image_to_string(img, lang='por', config=config_tesseract)\n",
        "  return texto"
      ]
    },
    {
      "cell_type": "markdown",
      "metadata": {
        "id": "p5epTdldWMG5"
      },
      "source": [
        "# Pré-processamento\n",
        "\n",
        "Funções para pre-processar as imagens (ROI) extraídas do EAST, desse modo fica mais adequado antes de passar para o Tesseract"
      ]
    },
    {
      "cell_type": "code",
      "execution_count": null,
      "metadata": {
        "id": "6xNbyHt4WOTB"
      },
      "outputs": [],
      "source": [
        "def pre_processamento(img):\n",
        "  gray = cv2.cvtColor(img, cv2.COLOR_BGR2GRAY)\n",
        "  maior = cv2.resize(gray, None, fx=2.0, fy=2.0, interpolation=cv2.INTER_CUBIC)\n",
        "  valor, otsu = cv2.threshold(maior, 0, 255, cv2.THRESH_BINARY_INV | cv2.THRESH_OTSU)\n",
        "  return otsu"
      ]
    },
    {
      "cell_type": "markdown",
      "metadata": {
        "id": "BOq8erxwrONU"
      },
      "source": [
        "# Configuração do EAST"
      ]
    },
    {
      "cell_type": "markdown",
      "metadata": {
        "id": "q3XRlxNay43C"
      },
      "source": [
        "Carrega o `frozen_east_text_detection.pb`"
      ]
    },
    {
      "cell_type": "code",
      "execution_count": null,
      "metadata": {
        "id": "43c95d7GrbsN"
      },
      "outputs": [],
      "source": [
        "!cp /content/gdrive/MyDrive/Cursos/OCR/frozen_east_text_detection.pb ./\n",
        "!cp -R /content/gdrive/MyDrive/Cursos/OCR/imagens imagens/\n",
        "!cp -R /content/gdrive/MyDrive/Cursos/OCR/fontes fontes/"
      ]
    },
    {
      "cell_type": "code",
      "execution_count": null,
      "metadata": {
        "id": "XaQaYJVHrzG2"
      },
      "outputs": [],
      "source": [
        "detector = \"frozen_east_text_detection.pb\"\n",
        "largura_EAST, altura_EAST = 640, 640 # 320x320"
      ]
    },
    {
      "cell_type": "code",
      "execution_count": null,
      "metadata": {
        "id": "m_UCN-t5v3sX"
      },
      "outputs": [],
      "source": [
        "min_conf_EAST = 0.9 #@param {type:\"number\", min:0.0, max:1.0}"
      ]
    },
    {
      "cell_type": "code",
      "execution_count": null,
      "metadata": {
        "id": "ojjBq1qPr3P7"
      },
      "outputs": [],
      "source": [
        "camadas_EAST = [\n",
        "\t\"feature_fusion/Conv_7/Sigmoid\",\n",
        "\t\"feature_fusion/concat_3\"]"
      ]
    },
    {
      "cell_type": "markdown",
      "metadata": {
        "id": "pDnzvuqQtfKx"
      },
      "source": [
        "# Funções EAST"
      ]
    },
    {
      "cell_type": "code",
      "execution_count": null,
      "metadata": {
        "id": "cSuF5hq2toPa"
      },
      "outputs": [],
      "source": [
        "def dados_geometricos(geometry, y):\n",
        "  x0_data = geometry[0, 0, y]\n",
        "  x1_data = geometry[0, 1, y]\n",
        "  x2_data = geometry[0, 2, y]\n",
        "  x3_data = geometry[0, 3, y]\n",
        "  data_angulos = geometry[0, 4, y]\n",
        "\n",
        "  return data_angulos, x0_data, x1_data, x2_data, x3_data"
      ]
    },
    {
      "cell_type": "code",
      "execution_count": null,
      "metadata": {
        "id": "FZUG_YjVtpRN"
      },
      "outputs": [],
      "source": [
        "def calculos_geometria(data_angulos, x0_data, x1_data, x2_data, x3_data, x, y):\n",
        "  (offsetX, offsetY) = (x * 4.0, y * 4.0)\n",
        "\n",
        "  angulo = data_angulos[x]\n",
        "  cos = np.cos(angulo)\n",
        "  sin = np.sin(angulo)\n",
        "\n",
        "  h = x0_data[x] + x2_data[x]\n",
        "  w = x1_data[x] + x3_data[x]\n",
        "\n",
        "  fimX = int(offsetX + (cos * x1_data[x]) + (sin * x2_data[x]))\n",
        "  fimY = int(offsetY - (sin * x1_data[x]) + (cos * x2_data[x]))\n",
        "  inicioX = int(fimX - w)\n",
        "  inicioY = int(fimY - h)\n",
        "\n",
        "  return inicioX, inicioY, fimX, fimY"
      ]
    },
    {
      "cell_type": "markdown",
      "metadata": {
        "id": "C3C85bTltjDy"
      },
      "source": [
        "# Função para processamento da imagem"
      ]
    },
    {
      "cell_type": "code",
      "execution_count": null,
      "metadata": {
        "id": "mwKWPmBvsQ-Y"
      },
      "outputs": [],
      "source": [
        "def EAST_processamento(img, largura, altura, net, nomes_camadas, min_confianca):\n",
        "  original = img.copy()\n",
        "  (H, W) = img.shape[:2]\n",
        "\n",
        "  proporcao_W = W / float(largura)\n",
        "  proporcao_H = H / float(altura)\n",
        "\n",
        "  img = cv2.resize(img, (largura, altura))\n",
        "  (H, W) = img.shape[:2]\n",
        "\n",
        "  blob = cv2.dnn.blobFromImage(img, 1.0, (W, H), swapRB=True, crop=False)\n",
        "\n",
        "  net.setInput(blob)\n",
        "  (scores, geometry) = net.forward(nomes_camadas)\n",
        "\n",
        "  (linhas, colunas) = scores.shape[2:4]\n",
        "\n",
        "  caixas = []\n",
        "  confiancas = []\n",
        "\n",
        "  for y in range(0, linhas):\n",
        "    data_scores = scores[0, 0, y]\n",
        "\n",
        "    data_angulos, x0_data, x1_data, x2_data, x3_data = dados_geometricos(geometry, y)\n",
        "\n",
        "    for x in range(0, colunas):\n",
        "      if data_scores[x] < min_confianca:\n",
        "        continue\n",
        "\n",
        "      inicioX, inicioY, fimX, fimY = calculos_geometria(data_angulos, x0_data, x1_data, x2_data, x3_data, x, y)\n",
        "      confiancas.append(data_scores[x])\n",
        "      caixas.append((inicioX, inicioY, fimX, fimY))\n",
        "\n",
        "  return proporcao_W, proporcao_H, confiancas, caixas"
      ]
    },
    {
      "cell_type": "markdown",
      "metadata": {
        "id": "J5uG_uqq3JFx"
      },
      "source": [
        "# Função para escrita no video"
      ]
    },
    {
      "cell_type": "code",
      "execution_count": null,
      "metadata": {
        "id": "ApMWOT7_3PGe"
      },
      "outputs": [],
      "source": [
        "fonte = './Fontes/calibri.ttf'"
      ]
    },
    {
      "cell_type": "code",
      "execution_count": null,
      "metadata": {
        "id": "7MjoEVIatucb"
      },
      "outputs": [],
      "source": [
        "def escreve_texto(texto, x, y, img, fonte, cor=(50, 50, 255), tamanho=22):\n",
        "  fonte = ImageFont.truetype(fonte, tamanho)\n",
        "  img_pil = Image.fromarray(img)\n",
        "  draw = ImageDraw.Draw(img_pil)\n",
        "  draw.text((x, y-tamanho), texto, font = fonte, fill = cor)\n",
        "  img = np.array(img_pil)\n",
        "\n",
        "  return img"
      ]
    },
    {
      "cell_type": "code",
      "execution_count": null,
      "metadata": {
        "id": "Kw-7spqAGVAj"
      },
      "outputs": [],
      "source": [
        "def fundo_texto(texto, x, y, img, fonte, tamanho=32, cor_fundo=(200, 255, 0)):\n",
        "  fundo = np.full((img.shape), (0,0,0), dtype=np.uint8)\n",
        "  texto_fundo = escreve_texto(texto, x, y, fundo, fonte, (255,255,255), tamanho=tamanho)\n",
        "  texto_fundo = cv2.dilate(texto_fundo,(np.ones((3,5),np.uint8)))\n",
        "  fx,fy,fw,fh = cv2.boundingRect(texto_fundo[:,:,2])\n",
        "  cv2.rectangle(img, (fx, fy), (fx + fw, fy + fh), cor_fundo, -1)\n",
        "\n",
        "  return img"
      ]
    },
    {
      "cell_type": "markdown",
      "metadata": {
        "id": "mlnol7YQrQCJ"
      },
      "source": [
        "# Carrega modelo EAST"
      ]
    },
    {
      "cell_type": "code",
      "execution_count": null,
      "metadata": {
        "id": "ZPjBjE2_tCOq"
      },
      "outputs": [],
      "source": [
        "EASTnet = cv2.dnn.readNet(detector)"
      ]
    },
    {
      "cell_type": "markdown",
      "metadata": {
        "id": "UJlNZlTPvqN-"
      },
      "source": [
        "# Carrega o arquivo de vídeo"
      ]
    },
    {
      "cell_type": "code",
      "execution_count": null,
      "metadata": {
        "id": "djsWljJp1tZo"
      },
      "outputs": [],
      "source": [
        "!cp -R /content/gdrive/MyDrive/Cursos/OCR/videos videos/"
      ]
    },
    {
      "cell_type": "code",
      "execution_count": null,
      "metadata": {
        "colab": {
          "base_uri": "https://localhost:8080/"
        },
        "id": "TtxkEuIq19yf",
        "outputId": "dec6b7c8-5ca4-4e02-af8c-4b5aee63e1a5"
      },
      "outputs": [],
      "source": [
        "arquivo_video = '/content/videos/videoteste02.mp4'\n",
        "cap = cv2.VideoCapture(arquivo_video)\n",
        "conectado, video = cap.read()\n",
        "print(conectado, video)"
      ]
    },
    {
      "cell_type": "code",
      "execution_count": null,
      "metadata": {
        "colab": {
          "base_uri": "https://localhost:8080/"
        },
        "id": "F-Kf37PG2X1f",
        "outputId": "2fa964ff-d2d5-4cdb-fb76-108b8187daaf"
      },
      "outputs": [],
      "source": [
        "video.shape"
      ]
    },
    {
      "cell_type": "code",
      "execution_count": null,
      "metadata": {
        "id": "rT-_NNCS2b5H"
      },
      "outputs": [],
      "source": [
        "video_largura = video.shape[1]\n",
        "video_altura = video.shape[0]"
      ]
    },
    {
      "cell_type": "markdown",
      "metadata": {
        "id": "wugIYhqhx4i8"
      },
      "source": [
        "# Redimensionamento do tamanho do video (opcional)"
      ]
    },
    {
      "cell_type": "code",
      "execution_count": null,
      "metadata": {
        "id": "Y6lEInv-2j1M"
      },
      "outputs": [],
      "source": [
        "def redimensionar(largura, altura, largura_maxima = 600):\n",
        "  if largura > largura_maxima:\n",
        "    proporcao = largura / altura\n",
        "    video_largura = largura_maxima\n",
        "    video_altura = int(video_largura / proporcao)\n",
        "  else:\n",
        "    video_largura = largura\n",
        "    video_altura = altura\n",
        "  return video_largura, video_altura"
      ]
    },
    {
      "cell_type": "code",
      "execution_count": null,
      "metadata": {
        "colab": {
          "base_uri": "https://localhost:8080/"
        },
        "id": "uHSbgU9S3ONu",
        "outputId": "a1328895-49eb-4f7f-9b7e-72d6be377adf"
      },
      "outputs": [],
      "source": [
        "video_largura, video_altura = redimensionar(video.shape[1], video.shape[0], 800)\n",
        "print(video_largura, video_altura)"
      ]
    },
    {
      "cell_type": "markdown",
      "metadata": {
        "id": "L403Vrjlw5PF"
      },
      "source": [
        "# Definindo as configurações do vídeo"
      ]
    },
    {
      "cell_type": "code",
      "execution_count": null,
      "metadata": {
        "id": "3NSuk2l33c3X"
      },
      "outputs": [],
      "source": [
        "nome_arquivo = 'resultado_east_tesseract.avi'"
      ]
    },
    {
      "cell_type": "code",
      "execution_count": null,
      "metadata": {
        "id": "4nt5tqNm3qSO"
      },
      "outputs": [],
      "source": [
        "fourcc = cv2.VideoWriter_fourcc(*'XVID')"
      ]
    },
    {
      "cell_type": "markdown",
      "metadata": {
        "id": "-iCanuUK3ywb"
      },
      "source": [
        "FourCC é um código de 4 bytes usado para especificar o codec de vídeo. A lista de códigos disponíveis pode ser encontrada no site fourcc.org\n",
        "* Codecs mais usados: XVID, MP4V, MJPG, DIVX, X264...\n",
        "* Por exemplo, para salvar em formato mp4 utiliza-se o codec mp4v (o nome do arquivo também precisa possuir a extensão .mp4)\n",
        "\n",
        " fourcc = cv2.VideoWriter_fourcc(*'mp4v')\n",
        "\n",
        "Mais exemplos de outras configurações com o fourcc que é possível usar: https://www.programcreek.com/python/example/89348/cv2.VideoWriter_fourcc"
      ]
    },
    {
      "cell_type": "code",
      "execution_count": null,
      "metadata": {
        "id": "BQGLLSVE36x6"
      },
      "outputs": [],
      "source": [
        "fps = 24"
      ]
    },
    {
      "cell_type": "code",
      "execution_count": null,
      "metadata": {
        "id": "sDjQgNEv4CUx"
      },
      "outputs": [],
      "source": [
        "saida_video = cv2.VideoWriter(nome_arquivo, fourcc, fps, (video_largura, video_altura))"
      ]
    },
    {
      "cell_type": "markdown",
      "metadata": {
        "id": "WThHOofKxmFE"
      },
      "source": [
        "# Definindo as variáveis"
      ]
    },
    {
      "cell_type": "code",
      "execution_count": null,
      "metadata": {
        "id": "9wolx9WW4R6B"
      },
      "outputs": [],
      "source": [
        "amostras_exibir = 20\n",
        "amostra_atual = 0"
      ]
    },
    {
      "cell_type": "code",
      "execution_count": null,
      "metadata": {
        "id": "DdiTuAc54f6Y"
      },
      "outputs": [],
      "source": [
        "margem = 4"
      ]
    },
    {
      "cell_type": "markdown",
      "metadata": {
        "id": "ecH3x-3vwu0y"
      },
      "source": [
        "# Processamento do vídeo e exibição do resultado"
      ]
    },
    {
      "cell_type": "code",
      "execution_count": null,
      "metadata": {
        "id": "DOpBNQcY6I8O"
      },
      "outputs": [],
      "source": [
        "while (cv2.waitKey(1) < 0):\n",
        "  conectado, frame = cap.read()\n",
        "\n",
        "  if not conectado:\n",
        "    break\n",
        "\n",
        "  frame = cv2.resize(frame, (video_largura, video_altura))\n",
        "\n",
        "  imagem_cp = frame.copy()\n",
        "\n",
        "  proporcao_W, proporcao_H, confiancas, caixas = EAST_processamento(frame, largura_EAST, altura_EAST, EASTnet, camadas_EAST, min_conf_EAST)\n",
        "  deteccoes = non_max_suppression(np.array(caixas), probs=confiancas)\n",
        "  for (inicioX, inicioY, fimX, fimY) in deteccoes:\n",
        "    inicioX = int(inicioX * proporcao_W)\n",
        "    inicioY = int(inicioY * proporcao_H)\n",
        "    fimX = int(fimX * proporcao_W)\n",
        "    fimY = int(fimY * proporcao_H)\n",
        "\n",
        "    cv2.rectangle(frame, (inicioX, inicioY), (fimX, fimY), (200,255,0), 2)\n",
        "\n",
        "    roi = imagem_cp[inicioY - margem:fimY + margem, inicioX - margem:fimX + margem]\n",
        "\n",
        "    img_process = pre_processamento(roi)\n",
        "\n",
        "    texto = tesseract_OCR(img_process, config_tesseract)\n",
        "    # http://www.asciitable.com/\n",
        "    texto = ''.join([c if ord(c) < 128 else '' for c in texto]).strip()\n",
        "\n",
        "    frame = fundo_texto(texto, inicioX, inicioY, frame, fonte, 20, (200,255,0))\n",
        "    frame = escreve_texto(texto, inicioX, inicioY, frame, fonte, (0,0,0), 20)\n",
        "\n",
        "  if amostra_atual <= amostras_exibir:\n",
        "    cv2_imshow(frame)\n",
        "    amostra_atual += 1\n",
        "\n",
        "  saida_video.write(frame)\n",
        "\n",
        "print('Terminou!')\n",
        "saida_video.release()\n",
        "cv2.destroyAllWindows()"
      ]
    },
    {
      "cell_type": "markdown",
      "metadata": {
        "id": "oZtDT8O3YEaT"
      },
      "source": [
        "# OCR em vídeos com EasyOCR"
      ]
    },
    {
      "cell_type": "code",
      "execution_count": null,
      "metadata": {
        "colab": {
          "base_uri": "https://localhost:8080/",
          "height": 580
        },
        "id": "lDcyM1L_Dk8u",
        "outputId": "cbcdd230-1581-4bd4-a0ec-f69b9cd48249"
      },
      "outputs": [],
      "source": [
        "!pip install easyocr"
      ]
    },
    {
      "cell_type": "code",
      "execution_count": null,
      "metadata": {
        "id": "3WwXFB8kDmpC"
      },
      "outputs": [],
      "source": [
        "from easyocr import Reader\n",
        "import cv2\n",
        "from google.colab.patches import cv2_imshow\n",
        "from PIL import ImageFont, ImageDraw, Image\n",
        "import numpy as np"
      ]
    },
    {
      "cell_type": "code",
      "execution_count": null,
      "metadata": {
        "colab": {
          "base_uri": "https://localhost:8080/"
        },
        "id": "lTn8SZBVDnsB",
        "outputId": "8d056c8e-9fe9-41ab-a3f7-c5c3fc7cafb1"
      },
      "outputs": [],
      "source": [
        "lista_idiomas = \"en,pt\"\n",
        "idiomas = lista_idiomas.split(\",\")\n",
        "print(idiomas)\n",
        "\n",
        "gpu = True #@param {type:\"boolean\"}\n",
        "fonte = './Fontes/calibri.ttf' #@param {type:\"string\"}"
      ]
    },
    {
      "cell_type": "code",
      "execution_count": null,
      "metadata": {
        "id": "GU2wVT0GR9F-"
      },
      "outputs": [],
      "source": [
        "arquivo_video = \"videos/videoteste02.mp4\"\n",
        "cap = cv2.VideoCapture(arquivo_video)\n",
        "\n",
        "conectado, video = cap.read()\n",
        "video_largura = video.shape[1]\n",
        "video_altura = video.shape[0]"
      ]
    },
    {
      "cell_type": "code",
      "execution_count": null,
      "metadata": {
        "colab": {
          "base_uri": "https://localhost:8080/"
        },
        "id": "aC3Zve7lYu_x",
        "outputId": "b011afc0-5ad3-411b-993e-1fe5ebfc883f"
      },
      "outputs": [],
      "source": [
        "video_largura, video_altura = redimensionar(video.shape[1], video.shape[0], 800)\n",
        "print(video_largura,video_altura)"
      ]
    },
    {
      "cell_type": "code",
      "execution_count": null,
      "metadata": {
        "id": "C5txc6BdDwSz"
      },
      "outputs": [],
      "source": [
        "def coord_caixa(caixa):\n",
        "  (te, td, bd, be) = caixa\n",
        "  te = (int(te[0]), int(te[1]))\n",
        "  td = (int(td[0]), int(td[1]))\n",
        "  bd = (int(bd[0]), int(bd[1]))\n",
        "  be = (int(be[0]), int(be[1]))\n",
        "  return te, td, bd, be\n",
        "\n",
        "def desenha_caixa(img, te, bd, cor_caixa=(200, 255, 0), espessura=2):\n",
        "  cv2.rectangle(img, te, bd, cor_caixa, espessura)\n",
        "  return img"
      ]
    },
    {
      "cell_type": "code",
      "execution_count": null,
      "metadata": {
        "id": "poz789ETDrYv"
      },
      "outputs": [],
      "source": [
        "nome_arquivo = 'resultado_easy.avi'\n",
        "fourcc = cv2.VideoWriter_fourcc(*'XVID')\n",
        "fps = 24\n",
        "saida_video = cv2.VideoWriter(nome_arquivo, fourcc, fps, (video_largura, video_altura))"
      ]
    },
    {
      "cell_type": "code",
      "execution_count": null,
      "metadata": {
        "id": "1eIT4dGVD2LL"
      },
      "outputs": [],
      "source": [
        "amostras_exibir = 20\n",
        "amostra_atual = 0"
      ]
    },
    {
      "cell_type": "code",
      "execution_count": null,
      "metadata": {
        "id": "V7WWVRJjaPNA"
      },
      "outputs": [],
      "source": [
        "cor_fonte = (0,0,0)\n",
        "cor_fundo = (200,255,0)\n",
        "cor_caixa = (200,255,0)\n",
        "tam_fonte = 20"
      ]
    },
    {
      "cell_type": "code",
      "execution_count": null,
      "metadata": {
        "colab": {
          "base_uri": "https://localhost:8080/",
          "height": 1000
        },
        "id": "qj9T1VxFYNQB",
        "outputId": "f0a46b1b-596e-4353-e058-05992ca4b8ec"
      },
      "outputs": [],
      "source": [
        "while (cv2.waitKey(1) < 0):\n",
        "    conectado, frame = cap.read()\n",
        "\n",
        "    if not conectado:\n",
        "        break\n",
        "\n",
        "    frame = cv2.resize(frame, (video_largura, video_altura))\n",
        "\n",
        "    imagem_cp = frame.copy()\n",
        "\n",
        "    reader = Reader(idiomas, gpu=gpu)\n",
        "    resultados = reader.readtext(frame)\n",
        "\n",
        "    for (caixa, texto, prob) in resultados:\n",
        "      te, td, bd, be = coord_caixa(caixa)\n",
        "\n",
        "      frame = desenha_caixa(frame, te, bd)\n",
        "      frame = fundo_texto(texto, te[0], te[1], frame, fonte, tam_fonte, cor_fundo)\n",
        "      frame = escreve_texto(texto, te[0], te[1], frame, fonte, cor_fonte, tam_fonte)\n",
        "\n",
        "    if amostra_atual <= amostras_exibir:\n",
        "      cv2_imshow(frame)\n",
        "      amostra_atual = amostra_atual + 1\n",
        "\n",
        "    saida_video.write(frame)\n",
        "\n",
        "print(\"Terminou\")\n",
        "saida_video.release()\n",
        "cv2.destroyAllWindows()"
      ]
    }
  ],
  "metadata": {
    "accelerator": "GPU",
    "colab": {
      "collapsed_sections": [
        "oZtDT8O3YEaT"
      ],
      "provenance": []
    },
    "kernelspec": {
      "display_name": "Python 3",
      "name": "python3"
    },
    "language_info": {
      "name": "python"
    }
  },
  "nbformat": 4,
  "nbformat_minor": 0
}
