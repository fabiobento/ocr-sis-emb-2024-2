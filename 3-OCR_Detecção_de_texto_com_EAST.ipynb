{
  "cells": [
    {
      "cell_type": "markdown",
      "metadata": {
        "id": "cvdGr7Qp0IzA"
      },
      "source": [
        "# Detecção de texto em imagens com EAST detector\n",
        "\n",
        "- Paper da técnica: https://arxiv.org/pdf/1704.03155v2.pdf"
      ]
    },
    {
      "cell_type": "markdown",
      "metadata": {},
      "source": [
        "<a href=\"https://colab.research.google.com/github/fabiobento/ocr-sis-emb-2024-2/blob/main/3-OCR_Detecção_de_texto_com_EAST.ipynb\" target=\"_parent\"><img src=\"https://colab.research.google.com/assets/colab-badge.svg\" alt=\"Open In Colab\"/></a>"
      ]
    },
    {
      "cell_type": "code",
      "execution_count": null,
      "metadata": {},
      "outputs": [],
      "source": [
        "if IN_COLAB:\n",
        "    # Baixar imagens para o laboratório.\n",
        "    !wget https://github.com/fabiobento/ocr-sis-emb-2024-2/raw/refs/heads/main/imagens.zip\n",
        "    !unzip -n -q imagens.zip"
      ]
    },
    {
      "cell_type": "code",
      "execution_count": null,
      "metadata": {},
      "outputs": [],
      "source": [
        "try:\n",
        "    import google.colab\n",
        "    IN_COLAB = True\n",
        "    print(\"Executando no Google Colab\")\n",
        "except ImportError:\n",
        "    IN_COLAB = False\n",
        "    print(\"Não executando no Google Colab\")"
      ]
    },
    {
      "cell_type": "markdown",
      "metadata": {
        "id": "dt6_dwLK0F9B"
      },
      "source": [
        "# Importando as bibliotecas"
      ]
    },
    {
      "cell_type": "code",
      "execution_count": null,
      "metadata": {
        "id": "n9-AdgBRk21O"
      },
      "outputs": [],
      "source": [
        "import cv2\n",
        "import numpy as np\n",
        "import matplotlib.pyplot as plt\n",
        "if IN_COLAB:\n",
        "    from google.colab.patches import cv2_imshow\n",
        "%pip install imutils==0.5.4\n",
        "from imutils.object_detection import non_max_suppression    "
      ]
    },
    {
      "cell_type": "code",
      "execution_count": 119,
      "metadata": {},
      "outputs": [],
      "source": [
        "# Definir função para exibição de imagens\n",
        "def imshow(imagem):\n",
        "    if IN_COLAB:\n",
        "        cv2_imshow(imagem)\n",
        "    else:\n",
        "        # Exibir a imagem com matplotlib\n",
        "        if len(imagem.shape) == 2:  # Se a imagem tiver apenas 2 dimensões (níveis de cinza)\n",
        "            plt.imshow(imagem, cmap='gray')\n",
        "            plt.axis('off')  # Oculta os eixos\n",
        "            plt.show()               \n",
        "        else:\n",
        "            plt.imshow(cv2.cvtColor(imagem, cv2.COLOR_BGR2RGB))        \n",
        "            plt.axis('off')  # Oculta os eixos\n",
        "            plt.show()   "
      ]
    },
    {
      "cell_type": "markdown",
      "metadata": {
        "id": "UsYxv6KFhgqP"
      },
      "source": [
        "# Processando a imagem"
      ]
    },
    {
      "cell_type": "code",
      "execution_count": 120,
      "metadata": {},
      "outputs": [],
      "source": [
        "if IN_COLAB:\n",
        "  # Baixar arquivo do modelo\n",
        "  %pip install gdown\n",
        "  !mkdir -p ./Modelos\n",
        "  !gdown --id 1-RbGz-8K7kC_Fve6J0eLtcRZQhmKS3UQ -O ./Modelos/frozen_east_text_detection.pb"
      ]
    },
    {
      "cell_type": "code",
      "execution_count": 121,
      "metadata": {
        "id": "ivT7Xjh6muL3"
      },
      "outputs": [],
      "source": [
        "detector = './Modelos/frozen_east_text_detection.pb'\n",
        "largura, altura = 320, 320"
      ]
    },
    {
      "cell_type": "code",
      "execution_count": 122,
      "metadata": {
        "id": "GSHAXaEem9iz"
      },
      "outputs": [],
      "source": [
        "imagem = './Imagens/caneca.jpg'\n",
        "min_confianca = 0.9 #@param {type: 'number', min:0.0, max:1.0}"
      ]
    },
    {
      "cell_type": "code",
      "execution_count": null,
      "metadata": {
        "colab": {
          "base_uri": "https://localhost:8080/",
          "height": 517
        },
        "id": "NZuw1M-_nRNN",
        "outputId": "b573bb28-a54a-403c-a339-63d82df11971"
      },
      "outputs": [],
      "source": [
        "img = cv2.imread(imagem)\n",
        "imshow(img)"
      ]
    },
    {
      "cell_type": "code",
      "execution_count": 124,
      "metadata": {
        "id": "2GUEvK9Jnn4x"
      },
      "outputs": [],
      "source": [
        "original = img.copy()"
      ]
    },
    {
      "cell_type": "code",
      "execution_count": null,
      "metadata": {
        "colab": {
          "base_uri": "https://localhost:8080/"
        },
        "id": "Hr7ibh0RoFTM",
        "outputId": "4d9dc5dd-f3d9-4ea9-c898-eed547a587cc"
      },
      "outputs": [],
      "source": [
        "img.shape"
      ]
    },
    {
      "cell_type": "code",
      "execution_count": null,
      "metadata": {
        "colab": {
          "base_uri": "https://localhost:8080/"
        },
        "id": "nJnE6A-6oQo-",
        "outputId": "417dc7ca-197a-4dd9-a784-64506096a110"
      },
      "outputs": [],
      "source": [
        "H = img.shape[0]\n",
        "W = img.shape[1]\n",
        "print(H, W)"
      ]
    },
    {
      "cell_type": "code",
      "execution_count": null,
      "metadata": {
        "colab": {
          "base_uri": "https://localhost:8080/"
        },
        "id": "yOKPCUPVpoNL",
        "outputId": "c216cc4a-2770-4f1e-9a46-857ebab775a2"
      },
      "outputs": [],
      "source": [
        "proporcao_W = W / float(largura)\n",
        "proporcao_H = H / float(altura)\n",
        "print(proporcao_W, proporcao_H)"
      ]
    },
    {
      "cell_type": "code",
      "execution_count": null,
      "metadata": {
        "colab": {
          "base_uri": "https://localhost:8080/"
        },
        "id": "ehFf-lE8qKQH",
        "outputId": "459b05e7-6bc7-4519-f216-907e529c0453"
      },
      "outputs": [],
      "source": [
        "img = cv2.resize(img, (largura, altura))\n",
        "H = img.shape[0]\n",
        "W = img.shape[1]\n",
        "print(H, W)"
      ]
    },
    {
      "cell_type": "code",
      "execution_count": null,
      "metadata": {
        "colab": {
          "base_uri": "https://localhost:8080/",
          "height": 357
        },
        "id": "Yx_TNXkbqYo-",
        "outputId": "42901a9d-d4d3-4ade-dfec-3baf4257e5ca"
      },
      "outputs": [],
      "source": [
        "imshow(img)"
      ]
    },
    {
      "cell_type": "markdown",
      "metadata": {
        "id": "_vLP34v0hlkP"
      },
      "source": [
        "# Carregando a rede neural"
      ]
    },
    {
      "cell_type": "code",
      "execution_count": 130,
      "metadata": {
        "id": "aXDdbe75tchB"
      },
      "outputs": [],
      "source": [
        "nomes_camadas = ['feature_fusion/Conv_7/Sigmoid', 'feature_fusion/concat_3']"
      ]
    },
    {
      "cell_type": "code",
      "execution_count": 131,
      "metadata": {
        "id": "besXjw0AugPs"
      },
      "outputs": [],
      "source": [
        "rede_neural = cv2.dnn.readNet(detector)"
      ]
    },
    {
      "cell_type": "code",
      "execution_count": null,
      "metadata": {
        "colab": {
          "base_uri": "https://localhost:8080/"
        },
        "id": "3FKsglIGuvVD",
        "outputId": "c1b37905-a2dd-4a75-827d-fa2985557a48"
      },
      "outputs": [],
      "source": [
        "img.shape"
      ]
    },
    {
      "cell_type": "code",
      "execution_count": 133,
      "metadata": {
        "id": "g91tpJ9xu0yS"
      },
      "outputs": [],
      "source": [
        "blob = cv2.dnn.blobFromImage(img, 1.0, (W, H), swapRB = True, crop = False)"
      ]
    },
    {
      "cell_type": "code",
      "execution_count": null,
      "metadata": {
        "colab": {
          "base_uri": "https://localhost:8080/"
        },
        "id": "tef5SKN8vXSn",
        "outputId": "dd4e4ab1-d998-437f-c8f0-aa86cf2e9ca9"
      },
      "outputs": [],
      "source": [
        "blob.shape # batch_size"
      ]
    },
    {
      "cell_type": "code",
      "execution_count": 135,
      "metadata": {
        "id": "DPu9iRI8vl_v"
      },
      "outputs": [],
      "source": [
        "rede_neural.setInput(blob)\n",
        "scores, geometry = rede_neural.forward(nomes_camadas)"
      ]
    },
    {
      "cell_type": "code",
      "execution_count": null,
      "metadata": {
        "colab": {
          "base_uri": "https://localhost:8080/"
        },
        "id": "q6VyXHXIwI7_",
        "outputId": "15daf7d1-2189-44d3-97ef-88c01dad3478"
      },
      "outputs": [],
      "source": [
        "scores"
      ]
    },
    {
      "cell_type": "code",
      "execution_count": null,
      "metadata": {
        "colab": {
          "base_uri": "https://localhost:8080/"
        },
        "id": "OZ-FKTIcwWVy",
        "outputId": "44c7c1aa-2f80-4359-9598-a5bcbc2d1692"
      },
      "outputs": [],
      "source": [
        "geometry"
      ]
    },
    {
      "cell_type": "code",
      "execution_count": null,
      "metadata": {
        "colab": {
          "base_uri": "https://localhost:8080/"
        },
        "id": "biXjjN8ezhHS",
        "outputId": "1578d33f-1ca5-47fd-ee1b-244844345c7b"
      },
      "outputs": [],
      "source": [
        "geometry[0,0,0]"
      ]
    },
    {
      "cell_type": "code",
      "execution_count": null,
      "metadata": {
        "colab": {
          "base_uri": "https://localhost:8080/"
        },
        "id": "-vWQiNUMwdy1",
        "outputId": "e49be202-7764-46a8-8551-77f93d6d2701"
      },
      "outputs": [],
      "source": [
        "scores.shape"
      ]
    },
    {
      "cell_type": "code",
      "execution_count": null,
      "metadata": {
        "colab": {
          "base_uri": "https://localhost:8080/"
        },
        "id": "eig3bmLbwjxc",
        "outputId": "e0a85c97-89be-4883-def2-bd4dfcf10394"
      },
      "outputs": [],
      "source": [
        "scores.shape[2:4]"
      ]
    },
    {
      "cell_type": "code",
      "execution_count": 141,
      "metadata": {
        "id": "SibTe8ozwvZc"
      },
      "outputs": [],
      "source": [
        "linhas, colunas = scores.shape[2:4]"
      ]
    },
    {
      "cell_type": "code",
      "execution_count": null,
      "metadata": {
        "colab": {
          "base_uri": "https://localhost:8080/"
        },
        "id": "Jx9f8waEwzTl",
        "outputId": "6ac46e37-9bc6-47d7-88cf-f777ed76e2a2"
      },
      "outputs": [],
      "source": [
        "print(linhas, colunas)"
      ]
    },
    {
      "cell_type": "code",
      "execution_count": 143,
      "metadata": {
        "id": "U753khvew4Uz"
      },
      "outputs": [],
      "source": [
        "caixas = []\n",
        "confiancas = []"
      ]
    },
    {
      "cell_type": "markdown",
      "metadata": {
        "id": "2qKL1ergUcq2"
      },
      "source": [
        "# Decodificando os valores\n",
        "\n",
        "- Explicação sobre os [valores de geometria](https://stackoverflow.com/questions/55583306/decoding-geometry-output-of-east-text-detection)"
      ]
    },
    {
      "cell_type": "code",
      "execution_count": 144,
      "metadata": {
        "id": "9MetBLvvzNe1"
      },
      "outputs": [],
      "source": [
        "def dados_geometricos(geometry, y):\n",
        "  xData0 = geometry[0, 0, y]\n",
        "  xData1 = geometry[0, 1, y]\n",
        "  xData2 = geometry[0, 2, y]\n",
        "  xData3 = geometry[0, 3, y]\n",
        "  data_angulos = geometry[0, 4, y]\n",
        "  return data_angulos, xData0, xData1, xData2, xData3"
      ]
    },
    {
      "cell_type": "code",
      "execution_count": 145,
      "metadata": {
        "id": "ZtysBgWqz7jk"
      },
      "outputs": [],
      "source": [
        "def calculos_geometria(data_angulos, xData0, xData1, xData2, xData3):\n",
        "  (offsetX, offsetY) = (x * 4.0, y * 4.0)\n",
        "  angulo = data_angulos[x]\n",
        "  cos = np.cos(angulo)\n",
        "  sin = np.sin(angulo)\n",
        "  h = xData0[x] + xData2[x]\n",
        "  w = xData1[x] + xData3[x]\n",
        "\n",
        "  fimX = int(offsetX + (cos * xData1[x]) + (sin * xData2[x]))\n",
        "  fimY = int(offsetY - (sin * xData1[x]) + (cos * xData2[x]))\n",
        "\n",
        "  inicioX = int(fimX - w)\n",
        "  inicioY = int(fimY - h)\n",
        "\n",
        "  return inicioX, inicioY, fimX, fimY"
      ]
    },
    {
      "cell_type": "code",
      "execution_count": null,
      "metadata": {
        "colab": {
          "base_uri": "https://localhost:8080/"
        },
        "id": "4ZFd6wi548zC",
        "outputId": "3f694138-c186-4b11-8f96-c0ce77a03e35"
      },
      "outputs": [],
      "source": [
        "linhas, colunas"
      ]
    },
    {
      "cell_type": "code",
      "execution_count": null,
      "metadata": {
        "colab": {
          "base_uri": "https://localhost:8080/"
        },
        "id": "ZXOGL6Bx5Nru",
        "outputId": "849e3ee1-718b-41ef-d80f-17bee326920f"
      },
      "outputs": [],
      "source": [
        "scores[0, 0, 0]"
      ]
    },
    {
      "cell_type": "code",
      "execution_count": 148,
      "metadata": {
        "id": "FJtF4iGj46BK"
      },
      "outputs": [],
      "source": [
        "for y in range(0, linhas):\n",
        "  #print(y)\n",
        "  data_scores = scores[0, 0, y]\n",
        "\n",
        "  data_angulos, xData0, xData1, xData2, xData3 = dados_geometricos(geometry, y)\n",
        "\n",
        "  for x in range(0, colunas):\n",
        "    if data_scores[x] < min_confianca:\n",
        "      continue\n",
        "\n",
        "    inicioX, inicioY, fimX, fimY = calculos_geometria(data_angulos, xData0, xData1, xData2, xData3)\n",
        "    confiancas.append(data_scores[x])\n",
        "    caixas.append((inicioX, inicioY, fimX, fimY))"
      ]
    },
    {
      "cell_type": "code",
      "execution_count": null,
      "metadata": {
        "colab": {
          "base_uri": "https://localhost:8080/"
        },
        "id": "xsfXql9G6Y9j",
        "outputId": "519a1323-31f1-4c42-917f-830129126788"
      },
      "outputs": [],
      "source": [
        "confiancas"
      ]
    },
    {
      "cell_type": "code",
      "execution_count": null,
      "metadata": {
        "colab": {
          "base_uri": "https://localhost:8080/"
        },
        "id": "JyNp_lRA6dr0",
        "outputId": "46305a38-1345-40fd-ce71-8ddacbd96d9c"
      },
      "outputs": [],
      "source": [
        "caixas"
      ]
    },
    {
      "cell_type": "code",
      "execution_count": 151,
      "metadata": {
        "id": "1QJnbSta6m9k"
      },
      "outputs": [],
      "source": [
        "deteccoes = non_max_suppression(np.array(caixas), probs=confiancas)"
      ]
    },
    {
      "cell_type": "code",
      "execution_count": null,
      "metadata": {
        "colab": {
          "base_uri": "https://localhost:8080/"
        },
        "id": "HSyNm3T463xZ",
        "outputId": "2a5849cd-a6b2-424f-b382-492d5cbb8ed7"
      },
      "outputs": [],
      "source": [
        "deteccoes"
      ]
    },
    {
      "cell_type": "code",
      "execution_count": null,
      "metadata": {
        "colab": {
          "base_uri": "https://localhost:8080/"
        },
        "id": "Y_2ohdEf8eel",
        "outputId": "db26f3ab-97b6-4ac7-f46d-d403da36030b"
      },
      "outputs": [],
      "source": [
        "proporcao_H, proporcao_W"
      ]
    },
    {
      "cell_type": "code",
      "execution_count": null,
      "metadata": {
        "colab": {
          "base_uri": "https://localhost:8080/",
          "height": 517
        },
        "id": "w12mGzhJ8Pkz",
        "outputId": "05e7e5b0-7dae-4407-b2ed-8547b2c1ff72"
      },
      "outputs": [],
      "source": [
        "copia = original.copy()\n",
        "for (inicioX, inicioY, fimX, fimY) in deteccoes:\n",
        "  #print(inicioX, inicioY, fimX, fimY)\n",
        "  inicioX = int(inicioX * proporcao_W)\n",
        "  inicioY = int(inicioY * proporcao_H)\n",
        "  fimX = int(fimX * proporcao_W)\n",
        "  fimY = int(fimY * proporcao_H)\n",
        "\n",
        "  # region of interest\n",
        "  roi = copia[inicioY:fimY, inicioX:fimX]\n",
        "\n",
        "  cv2.rectangle(original, (inicioX, inicioY), (fimX, fimY), (0,255,0), 2)\n",
        "imshow(original)"
      ]
    },
    {
      "cell_type": "code",
      "execution_count": null,
      "metadata": {
        "colab": {
          "base_uri": "https://localhost:8080/",
          "height": 55
        },
        "id": "elgJNe0q9emj",
        "outputId": "ee030859-319d-4d1a-c64e-987466c8358d"
      },
      "outputs": [],
      "source": [
        "imshow(roi)"
      ]
    },
    {
      "cell_type": "code",
      "execution_count": 156,
      "metadata": {
        "id": "BG0S2hZ79jNo"
      },
      "outputs": [],
      "source": [
        "roi = cv2.resize(roi, None, fx=1.5, fy=1.5, interpolation=cv2.INTER_CUBIC)"
      ]
    },
    {
      "cell_type": "code",
      "execution_count": null,
      "metadata": {
        "colab": {
          "base_uri": "https://localhost:8080/",
          "height": 64
        },
        "id": "Oy0HKw8V9uAP",
        "outputId": "6be84639-5650-42f7-ec5f-aa3a8fd5db54"
      },
      "outputs": [],
      "source": [
        "imshow(roi)"
      ]
    },
    {
      "cell_type": "markdown",
      "metadata": {
        "id": "qfbRzlCRZf-Z"
      },
      "source": [
        "# Reconhecimento do texto"
      ]
    },
    {
      "cell_type": "code",
      "execution_count": null,
      "metadata": {
        "id": "miRxiA4u95Ph"
      },
      "outputs": [],
      "source": [
        "!sudo apt install tesseract-ocr\n",
        "%pip install pytesseract\n",
        "\n",
        "import pytesseract"
      ]
    },
    {
      "cell_type": "markdown",
      "metadata": {
        "id": "z-60HnuyuLpU"
      },
      "source": [
        "Instalar pacotes de idiomas"
      ]
    },
    {
      "cell_type": "code",
      "execution_count": null,
      "metadata": {
        "colab": {
          "base_uri": "https://localhost:8080/"
        },
        "id": "XQQUPvZZ97jy",
        "outputId": "4376f009-90ed-419f-f895-461c252718ac"
      },
      "outputs": [],
      "source": [
        "!mkdir tessdata\n",
        "!wget -O ./tessdata/por.traineddata https://github.com/tesseract-ocr/tessdata/blob/main/por.traineddata?raw=true"
      ]
    },
    {
      "cell_type": "code",
      "execution_count": null,
      "metadata": {
        "colab": {
          "base_uri": "https://localhost:8080/"
        },
        "id": "mtUMBunv-AAH",
        "outputId": "7fc1294b-0b98-4d08-d6d0-5c25ae3a695d"
      },
      "outputs": [],
      "source": [
        "!tesseract --help-psm"
      ]
    },
    {
      "cell_type": "code",
      "execution_count": 161,
      "metadata": {
        "id": "YIwvVlpv-CMD"
      },
      "outputs": [],
      "source": [
        "config_tesseract = \"--tessdata-dir tessdata --psm 7\""
      ]
    },
    {
      "cell_type": "code",
      "execution_count": null,
      "metadata": {
        "colab": {
          "base_uri": "https://localhost:8080/",
          "height": 552
        },
        "id": "CmLk1-6H-66V",
        "outputId": "74aa0345-164b-4a8a-ddb4-71c258f24c95"
      },
      "outputs": [],
      "source": [
        "copia = original.copy()\n",
        "for (inicioX, inicioY, fimX, fimY) in deteccoes:\n",
        "  inicioX = int(inicioX * proporcao_W)\n",
        "  inicioY = int(inicioY * proporcao_H)\n",
        "  fimX = int(fimX * proporcao_W)\n",
        "  fimY = int(fimY * proporcao_H)\n",
        "\n",
        "  roi = copia[inicioY:fimY, inicioX:fimX]\n",
        "  texto = pytesseract.image_to_string(roi, lang='por', config=config_tesseract)\n",
        "  print(texto)\n",
        "\n",
        "  cv2.rectangle(original, (inicioX, inicioY), (fimX, fimY), (0,255,0), 2)\n",
        "imshow(original)"
      ]
    },
    {
      "cell_type": "markdown",
      "metadata": {
        "id": "eUqTgfHaeXbL"
      },
      "source": [
        "## Expandindo o ROI do texto"
      ]
    },
    {
      "cell_type": "code",
      "execution_count": null,
      "metadata": {
        "colab": {
          "base_uri": "https://localhost:8080/",
          "height": 576
        },
        "id": "aP2XzHl3_k1f",
        "outputId": "be1582d8-70cf-430e-c0f1-97e80ef8ac29"
      },
      "outputs": [],
      "source": [
        "margem = 3\n",
        "copia = original.copy()\n",
        "for (inicioX, inicioY, fimX, fimY) in deteccoes:\n",
        "  inicioX = int(inicioX * proporcao_W)\n",
        "  inicioY = int(inicioY * proporcao_H)\n",
        "  fimX = int(fimX * proporcao_W)\n",
        "  fimY = int(fimY * proporcao_H)\n",
        "\n",
        "  roi = copia[inicioY - margem:fimY + margem, inicioX - margem:fimX + margem]\n",
        "  imshow(roi)\n",
        "  texto = pytesseract.image_to_string(roi, lang='por', config=config_tesseract)\n",
        "  print(texto)\n",
        "\n",
        "  cv2.rectangle(copia, (inicioX - margem, inicioY - margem), (fimX + margem, fimY + margem), (0,255,0), 2)\n",
        "imshow(copia)"
      ]
    }
  ],
  "metadata": {
    "colab": {
      "provenance": []
    },
    "kernelspec": {
      "display_name": "Python 3",
      "name": "python3"
    },
    "language_info": {
      "codemirror_mode": {
        "name": "ipython",
        "version": 3
      },
      "file_extension": ".py",
      "mimetype": "text/x-python",
      "name": "python",
      "nbconvert_exporter": "python",
      "pygments_lexer": "ipython3",
      "version": "3.11.0"
    }
  },
  "nbformat": 4,
  "nbformat_minor": 0
}
