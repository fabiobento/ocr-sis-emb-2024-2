{
  "cells": [
    {
      "cell_type": "markdown",
      "metadata": {
        "id": "ziMVF4U2oeqi"
      },
      "source": [
        "# Reconhecimento de texto manuscrito - testando o modelo"
      ]
    },
    {
      "cell_type": "markdown",
      "metadata": {},
      "source": [
        "<a href=\"https://colab.research.google.com/github/fabiobento/ocr-sis-emb-2024-2/blob/main/5-OCR_Reconhecimento_de_texto_manuscrito_Testando_o_modelo.ipynb\" target=\"_parent\"><img src=\"https://colab.research.google.com/assets/colab-badge.svg\" alt=\"Open In Colab\"/></a>\n",
        "\n",
        "\n"
      ]
    },
    {
      "cell_type": "code",
      "execution_count": null,
      "metadata": {},
      "outputs": [],
      "source": [
        "try:\n",
        "    import google.colab\n",
        "    IN_COLAB = True\n",
        "    print(\"Executando no Google Colab\")\n",
        "except ImportError:\n",
        "    IN_COLAB = False\n",
        "    print(\"Não executando no Google Colab\")"
      ]
    },
    {
      "cell_type": "code",
      "execution_count": 132,
      "metadata": {},
      "outputs": [],
      "source": [
        "if IN_COLAB:\n",
        "    # Baixar imagens para o laboratório.\n",
        "    !wget https://github.com/fabiobento/ocr-sis-emb-2024-2/raw/refs/heads/main/imagens.zip\n",
        "    !unzip -n -q imagens.zip"
      ]
    },
    {
      "cell_type": "markdown",
      "metadata": {
        "id": "Ad4eMh9UJbEh"
      },
      "source": [
        "# Importando as bibliotecas"
      ]
    },
    {
      "cell_type": "code",
      "execution_count": null,
      "metadata": {
        "id": "SVygxJYhFja_"
      },
      "outputs": [],
      "source": [
        "import numpy as np\n",
        "import cv2\n",
        "from tensorflow.keras.models import load_model\n",
        "from imutils.contours import sort_contours\n",
        "import matplotlib.pyplot as plt\n",
        "if IN_COLAB:\n",
        "    from google.colab.patches import cv2_imshow\n",
        "else:\n",
        "    %pip install imutils==0.5.4\n",
        "    import imutils"
      ]
    },
    {
      "cell_type": "code",
      "execution_count": 134,
      "metadata": {},
      "outputs": [],
      "source": [
        "# Definir função para exibição de imagens\n",
        "def imshow(imagem):\n",
        "    if IN_COLAB:\n",
        "        cv2_imshow(imagem)\n",
        "    else:\n",
        "        # Exibir a imagem com matplotlib\n",
        "        if len(imagem.shape) == 2:  # Se a imagem tiver apenas 2 dimensões (níveis de cinza)\n",
        "            plt.imshow(imagem, cmap='gray')\n",
        "            plt.axis('off')  # Oculta os eixos\n",
        "            plt.show()               \n",
        "        else:\n",
        "            plt.imshow(imagem)        \n",
        "            plt.axis('off')  # Oculta os eixos\n",
        "            plt.show()   "
      ]
    },
    {
      "cell_type": "markdown",
      "metadata": {
        "id": "aEr1AR_rJg1x"
      },
      "source": [
        "# Carregando a rede neural"
      ]
    },
    {
      "cell_type": "code",
      "execution_count": null,
      "metadata": {
        "colab": {
          "base_uri": "https://localhost:8080/"
        },
        "id": "1iMeVP4nF-9k",
        "outputId": "9f12cc7c-2989-4b09-e028-7db51889368b"
      },
      "outputs": [],
      "source": [
        "if IN_COLAB:\n",
        "    from google.colab import drive\n",
        "    drive.mount('/content/drive')\n",
        "    !cp /content/drive/MyDrive/sistemas_embarcados/rede_neural.keras rede_neural.keras\n",
        "\n",
        "rede_neural = load_model('rede_neural.keras')\n",
        "  \n",
        "rede_neural.summary()"
      ]
    },
    {
      "cell_type": "markdown",
      "metadata": {
        "id": "OF7r6uheJoO7"
      },
      "source": [
        "# Carregando a imagem de teste"
      ]
    },
    {
      "cell_type": "code",
      "execution_count": null,
      "metadata": {
        "colab": {
          "base_uri": "https://localhost:8080/",
          "height": 587
        },
        "id": "8OUaMkpIGeXu",
        "outputId": "17f981cf-d236-438d-ba96-96c7aab920f7"
      },
      "outputs": [],
      "source": [
        "img = cv2.imread('./Imagens/teste-manuscrito01.jpg')\n",
        "imshow(img)\n",
        "gray = cv2.cvtColor(img, cv2.COLOR_BGR2GRAY)\n",
        "imshow(gray)"
      ]
    },
    {
      "cell_type": "markdown",
      "metadata": {
        "id": "3ZQpTJvzOzTK"
      },
      "source": [
        "# Pré-processamento da imagem"
      ]
    },
    {
      "cell_type": "code",
      "execution_count": null,
      "metadata": {
        "colab": {
          "base_uri": "https://localhost:8080/",
          "height": 302
        },
        "id": "EKclupJwH1gW",
        "outputId": "38935a0b-2bc2-4b01-e8d9-54679ed0b9ba"
      },
      "outputs": [],
      "source": [
        "desfoque = cv2.GaussianBlur(gray, (3,3), 0)\n",
        "imshow(desfoque)"
      ]
    },
    {
      "cell_type": "code",
      "execution_count": null,
      "metadata": {
        "colab": {
          "base_uri": "https://localhost:8080/",
          "height": 302
        },
        "id": "Pgo439tRIbqC",
        "outputId": "79c21e54-7ae9-4ef5-afb5-02d54491333d"
      },
      "outputs": [],
      "source": [
        "adapt_media = cv2.adaptiveThreshold(desfoque, 255, cv2.ADAPTIVE_THRESH_GAUSSIAN_C, cv2.THRESH_BINARY, 11, 9)\n",
        "imshow(adapt_media)"
      ]
    },
    {
      "cell_type": "code",
      "execution_count": null,
      "metadata": {
        "colab": {
          "base_uri": "https://localhost:8080/",
          "height": 302
        },
        "id": "ZbOkVTpnI30O",
        "outputId": "7538757c-d3b6-4db3-cd78-c0fa7be0f656"
      },
      "outputs": [],
      "source": [
        "inv = 255 - adapt_media\n",
        "imshow(inv)"
      ]
    },
    {
      "cell_type": "code",
      "execution_count": null,
      "metadata": {
        "colab": {
          "base_uri": "https://localhost:8080/",
          "height": 302
        },
        "id": "kyZPgEy8JQK6",
        "outputId": "d641a6a9-4d20-4351-87bd-333541555d73"
      },
      "outputs": [],
      "source": [
        "dilatado = cv2.dilate(inv, np.ones((3,3)))\n",
        "imshow(dilatado)"
      ]
    },
    {
      "cell_type": "code",
      "execution_count": null,
      "metadata": {
        "colab": {
          "base_uri": "https://localhost:8080/",
          "height": 302
        },
        "id": "8SSCZmEaJ0y_",
        "outputId": "ee9db134-498d-4ff6-d653-6347f87d1c75"
      },
      "outputs": [],
      "source": [
        "bordas = cv2.Canny(desfoque, 40, 150)\n",
        "imshow(bordas)"
      ]
    },
    {
      "cell_type": "code",
      "execution_count": null,
      "metadata": {
        "colab": {
          "base_uri": "https://localhost:8080/",
          "height": 302
        },
        "id": "dXljGWvEKlff",
        "outputId": "3bb48c6a-0148-4360-f249-bf391a480c98"
      },
      "outputs": [],
      "source": [
        "dilatado = cv2.dilate(bordas, np.ones((3,3)))\n",
        "imshow(dilatado)"
      ]
    },
    {
      "cell_type": "markdown",
      "metadata": {
        "id": "h7HXuxCxEqS1"
      },
      "source": [
        "# Detecção de contornos"
      ]
    },
    {
      "cell_type": "code",
      "execution_count": 143,
      "metadata": {
        "id": "I7IACHPYMwNz"
      },
      "outputs": [],
      "source": [
        "def encontrar_contornos(img):\n",
        "  conts = cv2.findContours(img, cv2.RETR_EXTERNAL, cv2.CHAIN_APPROX_SIMPLE)\n",
        "  conts = imutils.grab_contours(conts)\n",
        "  conts = sort_contours(conts, method='left-to-right')[0]\n",
        "  return conts"
      ]
    },
    {
      "cell_type": "code",
      "execution_count": 144,
      "metadata": {
        "id": "hd3JpL2_Of6R"
      },
      "outputs": [],
      "source": [
        "conts = encontrar_contornos(dilatado.copy())"
      ]
    },
    {
      "cell_type": "code",
      "execution_count": null,
      "metadata": {
        "colab": {
          "base_uri": "https://localhost:8080/"
        },
        "id": "YbCtV_TBOkXl",
        "outputId": "757dc5dc-f4a9-421f-9c95-03a45b588748"
      },
      "outputs": [],
      "source": [
        "conts"
      ]
    },
    {
      "cell_type": "code",
      "execution_count": 146,
      "metadata": {
        "id": "zMXAsCb0O30f"
      },
      "outputs": [],
      "source": [
        "l_min, l_max = 4, 160\n",
        "a_min, a_max = 14, 140"
      ]
    },
    {
      "cell_type": "code",
      "execution_count": null,
      "metadata": {
        "colab": {
          "base_uri": "https://localhost:8080/",
          "height": 731
        },
        "id": "0plz-2-hPO4a",
        "outputId": "8c4f1bc4-dfa2-46e5-8204-da91b8ac2d66"
      },
      "outputs": [],
      "source": [
        "caracteres = []\n",
        "img_cp = img.copy()\n",
        "for c in conts:\n",
        "  #print(c)\n",
        "  (x, y, w, h) = cv2.boundingRect(c)\n",
        "  #print(x, y, w, h)\n",
        "  if (w >= l_min and w <= l_max) and (h >= a_min and h <= a_max):\n",
        "    roi = gray[y:y+ h, x:x + w]\n",
        "    #imshow(roi)\n",
        "    thresh = cv2.threshold(roi, 0, 255, cv2.THRESH_BINARY_INV | cv2.THRESH_OTSU)[1]\n",
        "    imshow(thresh)\n",
        "    cv2.rectangle(img_cp, (x, y), (x + w, y + h), (255, 100, 0), 2)\n",
        "imshow(img_cp)"
      ]
    },
    {
      "cell_type": "markdown",
      "metadata": {
        "id": "5KuoWY8e5Jo-"
      },
      "source": [
        "# Processando os caracteres detectados"
      ]
    },
    {
      "cell_type": "markdown",
      "metadata": {
        "id": "rZLzgZkmmP6A"
      },
      "source": [
        "## Extração ROI\n"
      ]
    },
    {
      "cell_type": "code",
      "execution_count": 148,
      "metadata": {
        "id": "EvTeew0MiNpd"
      },
      "outputs": [],
      "source": [
        "def extra_roi(img):\n",
        "  roi = img[y:y + h, x:x + w]\n",
        "  return roi"
      ]
    },
    {
      "cell_type": "markdown",
      "metadata": {
        "id": "O-vh-uyLphnR"
      },
      "source": [
        "## Limiarização"
      ]
    },
    {
      "cell_type": "code",
      "execution_count": 149,
      "metadata": {
        "id": "pOeTA0DpifQB"
      },
      "outputs": [],
      "source": [
        "def limiarizacao(img):\n",
        "  thresh = cv2.threshold(img, 0, 255, cv2.THRESH_BINARY_INV | cv2.THRESH_OTSU)[1]\n",
        "  return thresh"
      ]
    },
    {
      "cell_type": "markdown",
      "metadata": {
        "id": "5L3OmVN95T4b"
      },
      "source": [
        "## Redimensionamento"
      ]
    },
    {
      "cell_type": "code",
      "execution_count": 150,
      "metadata": {
        "id": "T0u5W8oNiu31"
      },
      "outputs": [],
      "source": [
        "def redimensiona_img(img, l, a):\n",
        "  if l > a:\n",
        "    redimensionada = imutils.resize(img, width=28)\n",
        "  else:\n",
        "    redimensionada = imutils.resize(img, height=28)\n",
        "\n",
        "  (a, l) = redimensionada.shape\n",
        "  dX = int(max(0, 28 - l) / 2.0)\n",
        "  dY = int(max(0, 28 - a) / 2.0)\n",
        "\n",
        "  preenchida = cv2.copyMakeBorder(redimensionada, top=dY, bottom=dY, right=dX, left=dX, borderType=cv2.BORDER_CONSTANT, value=(0,0,0))\n",
        "  preenchida = cv2.resize(preenchida, (28, 28))\n",
        "  return preenchida"
      ]
    },
    {
      "cell_type": "code",
      "execution_count": null,
      "metadata": {
        "colab": {
          "base_uri": "https://localhost:8080/",
          "height": 128
        },
        "id": "umaTIXOtlJDn",
        "outputId": "479b1350-0689-4d87-c7de-cbdc84a3aa9f"
      },
      "outputs": [],
      "source": [
        "(x, y, w, h) = cv2.boundingRect(conts[6])\n",
        "print(x, y, w, h)\n",
        "img_teste = limiarizacao(gray[y:y+h, x:x+w])\n",
        "imshow(img_teste)\n",
        "(a, l) = img_teste.shape\n",
        "print(a, l)\n",
        "img_teste2 = redimensiona_img(img_teste, l, a)\n",
        "imshow(img_teste2)\n",
        "img_teste2.shape"
      ]
    },
    {
      "cell_type": "code",
      "execution_count": null,
      "metadata": {
        "colab": {
          "base_uri": "https://localhost:8080/",
          "height": 45
        },
        "id": "DAT8QD5jl8V5",
        "outputId": "ba37c471-2c3b-4b01-8298-2fa85c1810d9"
      },
      "outputs": [],
      "source": [
        "imshow(cv2.resize(img_teste, (28,28)))"
      ]
    },
    {
      "cell_type": "markdown",
      "metadata": {
        "id": "_RLNulfxoAPe"
      },
      "source": [
        "## Normalização"
      ]
    },
    {
      "cell_type": "code",
      "execution_count": 153,
      "metadata": {
        "id": "CzOKwOFCmwWb"
      },
      "outputs": [],
      "source": [
        "def normalizacao(img):\n",
        "  img = img.astype('float32') / 255.0\n",
        "  img = np.expand_dims(img, axis=-1)\n",
        "  return img"
      ]
    },
    {
      "cell_type": "code",
      "execution_count": null,
      "metadata": {
        "colab": {
          "base_uri": "https://localhost:8080/"
        },
        "id": "C0M5KD83nJ0f",
        "outputId": "40f8aed7-03e3-46f3-cfa3-621595639abc"
      },
      "outputs": [],
      "source": [
        "img_teste2.shape, normalizacao(img_teste2).shape"
      ]
    },
    {
      "cell_type": "markdown",
      "metadata": {
        "id": "STspELE3qDr1"
      },
      "source": [
        "## Processamento das detecções"
      ]
    },
    {
      "cell_type": "code",
      "execution_count": 155,
      "metadata": {
        "id": "hE8QRpajnUYN"
      },
      "outputs": [],
      "source": [
        "def processa_caixa(gray, x, y, w, h):\n",
        "  roi = extra_roi(gray)\n",
        "  limiar = limiarizacao(roi)\n",
        "  (a, l) = limiar.shape\n",
        "  redimensionada = redimensiona_img(limiar, l, a)\n",
        "  imshow(redimensionada)\n",
        "  normalizada = normalizacao(redimensionada)\n",
        "  caracteres.append((normalizada, (x, y, w, h)))"
      ]
    },
    {
      "cell_type": "code",
      "execution_count": null,
      "metadata": {
        "colab": {
          "base_uri": "https://localhost:8080/",
          "height": 437
        },
        "id": "GlUp4TmHnuae",
        "outputId": "e35b6237-fb19-4b34-dae3-3550226cdba5"
      },
      "outputs": [],
      "source": [
        "for c in conts:\n",
        "  #print(c)\n",
        "  (x, y, w, h) = cv2.boundingRect(c)\n",
        "  if (w >= l_min and w <= l_max) and (h >= a_min and h <= a_max):\n",
        "    processa_caixa(gray, x, y, w, h)"
      ]
    },
    {
      "cell_type": "code",
      "execution_count": null,
      "metadata": {
        "colab": {
          "base_uri": "https://localhost:8080/"
        },
        "id": "LI6uijYAobtu",
        "outputId": "21384889-ca1a-427b-f266-7bd372f8b3f8"
      },
      "outputs": [],
      "source": [
        "caracteres[0]"
      ]
    },
    {
      "cell_type": "code",
      "execution_count": null,
      "metadata": {
        "colab": {
          "base_uri": "https://localhost:8080/"
        },
        "id": "mus509POonoz",
        "outputId": "d21da34c-0b7c-450b-e622-ca56572aeb81"
      },
      "outputs": [],
      "source": [
        "caixas = [caixa[1] for caixa in caracteres]\n",
        "caixas"
      ]
    },
    {
      "cell_type": "code",
      "execution_count": 159,
      "metadata": {
        "id": "lcXUh7KAox8i"
      },
      "outputs": [],
      "source": [
        "caracteres = np.array([c[0] for c in caracteres], dtype='float32')"
      ]
    },
    {
      "cell_type": "code",
      "execution_count": null,
      "metadata": {
        "colab": {
          "base_uri": "https://localhost:8080/"
        },
        "id": "s0KxIAN6o9Rq",
        "outputId": "3424c606-3b1b-4564-d406-0cab10d65517"
      },
      "outputs": [],
      "source": [
        "caracteres"
      ]
    },
    {
      "cell_type": "markdown",
      "metadata": {
        "id": "EquI0_vleUFZ"
      },
      "source": [
        "# Reconhecimento dos caracteres"
      ]
    },
    {
      "cell_type": "code",
      "execution_count": 161,
      "metadata": {
        "id": "un26hE1drvtA"
      },
      "outputs": [],
      "source": [
        "numeros = \"0123456789\"\n",
        "letras = \"ABCDEFGHIJKLMNOPQRSTUVWXYZ\"\n",
        "lista_caracteres = numeros + letras\n",
        "lista_caracteres = [l for l in lista_caracteres]"
      ]
    },
    {
      "cell_type": "code",
      "execution_count": null,
      "metadata": {
        "colab": {
          "base_uri": "https://localhost:8080/"
        },
        "id": "B3CCtLKhr2gb",
        "outputId": "96c92102-d993-4335-9182-dfadf77c390b"
      },
      "outputs": [],
      "source": [
        "print(lista_caracteres)"
      ]
    },
    {
      "cell_type": "code",
      "execution_count": null,
      "metadata": {
        "colab": {
          "base_uri": "https://localhost:8080/"
        },
        "id": "4-8YIHlisDSD",
        "outputId": "4ba38d84-182c-4ab4-b0b1-0b9628755c2d"
      },
      "outputs": [],
      "source": [
        "caracteres[0].shape"
      ]
    },
    {
      "cell_type": "code",
      "execution_count": null,
      "metadata": {
        "colab": {
          "base_uri": "https://localhost:8080/"
        },
        "id": "207aJLDasLgg",
        "outputId": "04f45f3e-2e54-4369-b422-8be1c067ba16"
      },
      "outputs": [],
      "source": [
        "caracteres.shape"
      ]
    },
    {
      "cell_type": "code",
      "execution_count": null,
      "metadata": {
        "id": "e1jKecknsPeU"
      },
      "outputs": [],
      "source": [
        "previsoes = rede_neural.predict(caracteres)"
      ]
    },
    {
      "cell_type": "code",
      "execution_count": null,
      "metadata": {
        "colab": {
          "base_uri": "https://localhost:8080/"
        },
        "id": "bOyVaMHDsZ1Y",
        "outputId": "e25ca6f1-9d82-4752-f75c-7d25bb877980"
      },
      "outputs": [],
      "source": [
        "previsoes"
      ]
    },
    {
      "cell_type": "code",
      "execution_count": null,
      "metadata": {
        "colab": {
          "base_uri": "https://localhost:8080/"
        },
        "id": "3DC9SLRYsgcj",
        "outputId": "cc3ceeaa-38ae-4bdb-d0f0-4f0baaa9b731"
      },
      "outputs": [],
      "source": [
        "previsoes.shape"
      ]
    },
    {
      "cell_type": "code",
      "execution_count": null,
      "metadata": {
        "id": "6YHHcxDcs14y"
      },
      "outputs": [],
      "source": [
        "caixas"
      ]
    },
    {
      "cell_type": "code",
      "execution_count": null,
      "metadata": {
        "colab": {
          "base_uri": "https://localhost:8080/",
          "height": 1000
        },
        "id": "9ZWOCGHPslvo",
        "outputId": "acba76af-bc94-491a-9ef1-a257db9ffcfb"
      },
      "outputs": [],
      "source": [
        "img_cp = img.copy()\n",
        "for (previsoes, (x, y, w, h)) in zip(previsoes, caixas):\n",
        "  i = np.argmax(previsoes)\n",
        "  #print(i)\n",
        "  probabilidade = previsoes[i]\n",
        "  #print(probabilidade)\n",
        "  caractere = lista_caracteres[i]\n",
        "  #print(caractere)\n",
        "\n",
        "  cv2.rectangle(img_cp, (x, y), (x + w, y + h), (255,100,0), 2)\n",
        "  cv2.putText(img_cp, caractere, (x - 10, y - 10), cv2.FONT_HERSHEY_SIMPLEX, 1.1, (0,0,255), 2)\n",
        "  print(caractere, ' -> ', probabilidade * 100)\n",
        "\n",
        "  imshow(img_cp)"
      ]
    },
    {
      "cell_type": "code",
      "execution_count": 170,
      "metadata": {
        "id": "MM9NOfHevzzm"
      },
      "outputs": [],
      "source": [
        "def extrai_roi(img, margem=2):\n",
        "  roi = img[y - margem:y + h + margem, x - margem:x + w + margem]\n",
        "  return roi"
      ]
    },
    {
      "cell_type": "code",
      "execution_count": null,
      "metadata": {
        "colab": {
          "base_uri": "https://localhost:8080/",
          "height": 437
        },
        "id": "zyLumn1sv8Z9",
        "outputId": "0658e966-5080-4fa5-a208-02095012541b"
      },
      "outputs": [],
      "source": [
        "conts = encontrar_contornos(dilatado.copy())\n",
        "caracteres = []\n",
        "for c in conts:\n",
        "  (x, y, w, h) = cv2.boundingRect(c)\n",
        "  if (w >= l_min and w <= l_max) and (h >= a_min and h <= a_max):\n",
        "    processa_caixa(gray, x, y, w, h)"
      ]
    },
    {
      "cell_type": "code",
      "execution_count": null,
      "metadata": {
        "id": "bOwIBq1ZwLIz"
      },
      "outputs": [],
      "source": [
        "caixas = [b[1] for b in caracteres]\n",
        "caracteres = np.array([c[0] for c in caracteres], dtype=\"float32\")\n",
        "previsoes = rede_neural.predict(caracteres)"
      ]
    },
    {
      "cell_type": "code",
      "execution_count": null,
      "metadata": {
        "colab": {
          "base_uri": "https://localhost:8080/",
          "height": 1000
        },
        "id": "GX49YGKywZvZ",
        "outputId": "d67d2c26-aa61-4e86-bd99-49113db58fa5"
      },
      "outputs": [],
      "source": [
        "img_cp = img.copy()\n",
        "for (previsoes, (x, y, w, h)) in zip(previsoes, caixas):\n",
        "  i = np.argmax(previsoes)\n",
        "  probabilidade = previsoes[i]\n",
        "  caractere = lista_caracteres[i]\n",
        "\n",
        "  cv2.rectangle(img_cp, (x, y), (x + w, y + h), (255,100,0), 2)\n",
        "  cv2.putText(img_cp, caractere, (x - 10, y - 10), cv2.FONT_HERSHEY_SIMPLEX, 1.1, (0,0,255), 2)\n",
        "  print(caractere, ' -> ', probabilidade * 100)\n",
        "\n",
        "  imshow(img_cp)"
      ]
    },
    {
      "cell_type": "markdown",
      "metadata": {
        "id": "L7CF4UE3DipD"
      },
      "source": [
        "# Outros testes"
      ]
    },
    {
      "cell_type": "code",
      "execution_count": 174,
      "metadata": {
        "id": "RBZ09i5Wxg0g"
      },
      "outputs": [],
      "source": [
        "def preprocessar_img(img):\n",
        "  gray = cv2.cvtColor(img, cv2.COLOR_BGR2GRAY)\n",
        "  desfoque = cv2.GaussianBlur(gray, (3, 3), 7)\n",
        "  bordas = cv2.Canny(desfoque, 40, 150)\n",
        "  dilatado = cv2.dilate(bordas, np.ones((3,3)))\n",
        "  return gray, dilatado"
      ]
    },
    {
      "cell_type": "code",
      "execution_count": 175,
      "metadata": {
        "id": "r1SliHvaxkYj"
      },
      "outputs": [],
      "source": [
        "def predicao(previsoes, lista_caracteres):\n",
        "  i = np.argmax(previsoes)\n",
        "  probabilidade = previsoes[i]\n",
        "  caractere = lista_caracteres[i]\n",
        "  return i, probabilidade, caractere"
      ]
    },
    {
      "cell_type": "code",
      "execution_count": 176,
      "metadata": {
        "id": "6jRNJ8v9xvh2"
      },
      "outputs": [],
      "source": [
        "def desenhar_na_img(img_cp, caractere):\n",
        "  cv2.rectangle(img_cp, (x, y), (x + w, y + h), (255, 100, 0), 2)\n",
        "  cv2.putText(img_cp, caractere, (x - 10, y - 10),cv2.FONT_HERSHEY_SIMPLEX, 1.1, (0, 0, 255), 2)"
      ]
    },
    {
      "cell_type": "markdown",
      "metadata": {
        "id": "3WEXqbMWIwfi"
      },
      "source": [
        "## O problema do 0 e O, 1 e I, 5 e S"
      ]
    },
    {
      "cell_type": "code",
      "execution_count": null,
      "metadata": {
        "colab": {
          "base_uri": "https://localhost:8080/",
          "height": 309
        },
        "id": "HsS85OtyzDQ3",
        "outputId": "a41033c5-63bf-4599-e9d0-35d4896b9c8e"
      },
      "outputs": [],
      "source": [
        "img = cv2.imread('./Imagens/teste_manuscrito02.jpg')\n",
        "imshow(img)"
      ]
    },
    {
      "cell_type": "code",
      "execution_count": null,
      "metadata": {
        "colab": {
          "base_uri": "https://localhost:8080/",
          "height": 601
        },
        "id": "3oNrDnkJzwlT",
        "outputId": "286f1248-fa09-4de4-9b5b-defc8ffbb8d9"
      },
      "outputs": [],
      "source": [
        "gray, img_processada = preprocessar_img(img)\n",
        "imshow(gray)\n",
        "imshow(img_processada)"
      ]
    },
    {
      "cell_type": "code",
      "execution_count": null,
      "metadata": {
        "colab": {
          "base_uri": "https://localhost:8080/",
          "height": 577
        },
        "id": "1UhpCqPv0Ai-",
        "outputId": "798e48c8-af16-4688-c72e-b5c03216e691"
      },
      "outputs": [],
      "source": [
        "conts = encontrar_contornos(img_processada.copy())\n",
        "caracteres = []\n",
        "for c in conts:\n",
        "  (x, y, w, h) = cv2.boundingRect(c)\n",
        "  if (w >= l_min and w <= l_max) and (h >= a_min and h <= a_max):\n",
        "    processa_caixa(gray, x, y, w, h)\n",
        "\n",
        "caixas = [b[1] for b in caracteres]\n",
        "caracteres = np.array([c[0] for c in caracteres], dtype=\"float32\")\n",
        "previsoes = rede_neural.predict(caracteres)"
      ]
    },
    {
      "cell_type": "code",
      "execution_count": 180,
      "metadata": {
        "id": "KUPMjvdR1knz"
      },
      "outputs": [],
      "source": [
        "numeros_2 = \"OI234S6789\"\n",
        "letras_2 = \"ABCDEFGHIJKLMNOPQRSTUVWXYZ\"\n",
        "lista_caracteres_2 = numeros_2 + letras_2\n",
        "lista_caracteres_2 = [l for l in lista_caracteres_2]"
      ]
    },
    {
      "cell_type": "code",
      "execution_count": null,
      "metadata": {
        "colab": {
          "base_uri": "https://localhost:8080/",
          "height": 309
        },
        "id": "he3x3rto0QVm",
        "outputId": "fc9a9a02-6ebd-4f84-f308-340d3c03cb9c"
      },
      "outputs": [],
      "source": [
        "img_cp = img.copy()\n",
        "for (previsoes, (x, y, w, h)) in zip(previsoes, caixas):\n",
        "  i, probabilidade, caractere = predicao(previsoes, lista_caracteres_2)\n",
        "  desenhar_na_img(img_cp, caractere)\n",
        "imshow(img_cp)"
      ]
    },
    {
      "cell_type": "markdown",
      "metadata": {
        "id": "I6h4Ea0XJHpX"
      },
      "source": [
        "## O problema do texto não detectado"
      ]
    },
    {
      "cell_type": "code",
      "execution_count": null,
      "metadata": {
        "colab": {
          "base_uri": "https://localhost:8080/",
          "height": 580
        },
        "id": "uY7RTRVn3cT1",
        "outputId": "bd8c8c50-6ce1-4ebe-d1fb-a4dae2dbc25e"
      },
      "outputs": [],
      "source": [
        "img = cv2.imread('./Imagens/teste_manuscrito03.jpg')\n",
        "imshow(img)"
      ]
    },
    {
      "cell_type": "code",
      "execution_count": null,
      "metadata": {
        "colab": {
          "base_uri": "https://localhost:8080/",
          "height": 1000
        },
        "id": "p4Hb8ZcI3oEl",
        "outputId": "18a4c00f-e496-4d84-a2ec-c4178acbc31a"
      },
      "outputs": [],
      "source": [
        "gray, img_processada = preprocessar_img(img)\n",
        "imshow(gray)\n",
        "imshow(img_processada)"
      ]
    },
    {
      "cell_type": "code",
      "execution_count": 184,
      "metadata": {
        "id": "1Tx_gwTt4ysD"
      },
      "outputs": [],
      "source": [
        "# RETR_EXTERNAL"
      ]
    },
    {
      "cell_type": "code",
      "execution_count": null,
      "metadata": {
        "colab": {
          "base_uri": "https://localhost:8080/",
          "height": 580
        },
        "id": "fRex9dej37BW",
        "outputId": "f50d3064-0000-4ccd-c96d-4ab47eea9635"
      },
      "outputs": [],
      "source": [
        "conts = encontrar_contornos(img_processada.copy())\n",
        "img_cp = img.copy()\n",
        "for c in conts:\n",
        "  (x, y, w, h) = cv2.boundingRect(c)\n",
        "  #if (w >= l_min and w <= l_max) and (h >= a_min and h <= a_max):\n",
        "  roi = gray[y:y + h, x:x + w]\n",
        "  thresh = cv2.threshold(roi, 0, 255, cv2.THRESH_BINARY_INV | cv2.THRESH_OTSU)[1]\n",
        "  cv2.rectangle(img_cp, (x, y), (x + w, y + h), (255, 100, 0), 2)\n",
        "imshow(img_cp)"
      ]
    },
    {
      "cell_type": "code",
      "execution_count": null,
      "metadata": {
        "colab": {
          "base_uri": "https://localhost:8080/"
        },
        "id": "iOl2fSxr5tlJ",
        "outputId": "b67a49e5-5650-4731-eb17-6fb40aee938f"
      },
      "outputs": [],
      "source": [
        "img.shape"
      ]
    },
    {
      "cell_type": "code",
      "execution_count": null,
      "metadata": {
        "colab": {
          "base_uri": "https://localhost:8080/"
        },
        "id": "UHkGnQvD5nSg",
        "outputId": "a8083555-b7b0-4872-9075-20809b41a6e0"
      },
      "outputs": [],
      "source": [
        "altura, largura = img.shape[:2]\n",
        "print(altura, largura)"
      ]
    },
    {
      "cell_type": "code",
      "execution_count": 188,
      "metadata": {
        "id": "mfVH40BP53PD"
      },
      "outputs": [],
      "source": [
        "contornos_tamanho = sorted(conts, key=cv2.contourArea, reverse=True)"
      ]
    },
    {
      "cell_type": "code",
      "execution_count": null,
      "metadata": {
        "id": "T8ThmM0_6R2H"
      },
      "outputs": [],
      "source": [
        "contornos_tamanho"
      ]
    },
    {
      "cell_type": "code",
      "execution_count": null,
      "metadata": {
        "colab": {
          "base_uri": "https://localhost:8080/",
          "height": 498
        },
        "id": "1O2K1VGu6Xr5",
        "outputId": "10a69834-60be-40c5-cea2-8aa3749f314f"
      },
      "outputs": [],
      "source": [
        "for c in contornos_tamanho:\n",
        "  (x, y, w, h) = cv2.boundingRect(c)\n",
        "\n",
        "  if (w >= (largura / 2)) and (h >= altura / 2):\n",
        "    corta = 8\n",
        "    img_cortada = img[y+corta:y + h - corta, x+corta:x + w - corta]\n",
        "    imshow(img_cortada)"
      ]
    },
    {
      "cell_type": "code",
      "execution_count": null,
      "metadata": {
        "colab": {
          "base_uri": "https://localhost:8080/",
          "height": 498
        },
        "id": "5S0japJ07OEI",
        "outputId": "cb327db2-f59a-43b4-d54d-add3ec25e482"
      },
      "outputs": [],
      "source": [
        "gray, img_processada = preprocessar_img(img_cortada)\n",
        "imshow(img_processada)"
      ]
    },
    {
      "cell_type": "code",
      "execution_count": null,
      "metadata": {
        "colab": {
          "base_uri": "https://localhost:8080/",
          "height": 1000
        },
        "id": "Lnz1W0v97fR6",
        "outputId": "e0d138da-8f93-43e2-cf07-53a411bdd042"
      },
      "outputs": [],
      "source": [
        "conts = encontrar_contornos(img_processada.copy())\n",
        "caracteres = []\n",
        "for c in conts:\n",
        "  (x, y, w, h) = cv2.boundingRect(c)\n",
        "  if (w >= l_min and w <= l_max) and (h >= a_min and h <= a_max):\n",
        "    processa_caixa(gray, x, y, w, h)\n",
        "\n",
        "caixas = [b[1] for b in caracteres]\n",
        "caracteres = np.array([c[0] for c in caracteres], dtype=\"float32\")\n",
        "\n",
        "previsoes = rede_neural.predict(caracteres)\n",
        "\n",
        "img_cp = img_cortada.copy()\n",
        "\n",
        "# percorre todas as predições e caixas delimitadoras\n",
        "for (previsoes, (x, y, w, h)) in zip(previsoes, caixas):\n",
        "  i, probabilidade, caractere = predicao(previsoes, lista_caracteres)\n",
        "  desenhar_na_img(img_cp, caractere)\n",
        "imshow(img_cp)"
      ]
    }
  ],
  "metadata": {
    "colab": {
      "provenance": []
    },
    "kernelspec": {
      "display_name": "Python 3",
      "name": "python3"
    },
    "language_info": {
      "codemirror_mode": {
        "name": "ipython",
        "version": 3
      },
      "file_extension": ".py",
      "mimetype": "text/x-python",
      "name": "python",
      "nbconvert_exporter": "python",
      "pygments_lexer": "ipython3",
      "version": "3.11.0rc1"
    }
  },
  "nbformat": 4,
  "nbformat_minor": 0
}
