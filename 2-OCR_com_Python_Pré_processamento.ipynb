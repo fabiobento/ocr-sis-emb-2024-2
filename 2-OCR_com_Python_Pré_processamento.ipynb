{
  "cells": [
    {
      "cell_type": "markdown",
      "metadata": {
        "id": "bGldzsPW81YO"
      },
      "source": [
        "# Técnicas de Pré-processamento para OCR"
      ]
    },
    {
      "cell_type": "markdown",
      "metadata": {},
      "source": [
        "<a href=\"https://colab.research.google.com/github/fabiobento/ocr-sis-emb-2024-2/blob/main/2-OCR_com_Python_Pré_processamento.ipynb\" target=\"_parent\"><img src=\"https://colab.research.google.com/assets/colab-badge.svg\" alt=\"Open In Colab\"/></a>"
      ]
    },
    {
      "cell_type": "code",
      "execution_count": null,
      "metadata": {},
      "outputs": [],
      "source": [
        "try:\n",
        "    import google.colab\n",
        "    IN_COLAB = True\n",
        "    print(\"Executando no Google Colab\")\n",
        "except ImportError:\n",
        "    IN_COLAB = False\n",
        "    print(\"Não executando no Google Colab\")  "
      ]
    },
    {
      "cell_type": "markdown",
      "metadata": {
        "id": "36wL1Mnq6LX-"
      },
      "source": [
        "# Importando as bibliotecas"
      ]
    },
    {
      "cell_type": "code",
      "execution_count": null,
      "metadata": {},
      "outputs": [],
      "source": [
        "# Baixar imagens para o laboratório.\n",
        "!wget https://github.com/fabiobento/ocr-sis-emb-2024-2/raw/refs/heads/main/imagens.zip\n",
        "!unzip -n -q imagens.zip"
      ]
    },
    {
      "cell_type": "code",
      "execution_count": 12,
      "metadata": {
        "id": "_K7K59HW3f9H"
      },
      "outputs": [],
      "source": [
        "import cv2\n",
        "import numpy as np\n",
        "import matplotlib.pyplot as plt\n",
        "if IN_COLAB:\n",
        "    from google.colab.patches import cv2_imshow"
      ]
    },
    {
      "cell_type": "code",
      "execution_count": 13,
      "metadata": {},
      "outputs": [],
      "source": [
        "# Definir função para exibição de imagens\n",
        "def imshow(imagem):\n",
        "    if IN_COLAB:\n",
        "        cv2_imshow(imagem)\n",
        "    else:\n",
        "        # Exibir a imagem com matplotlib\n",
        "        if len(imagem.shape) == 2:  # Se a imagem tiver apenas 2 dimensões (níveis de cinza)\n",
        "            plt.imshow(imagem, cmap='gray')\n",
        "            plt.axis('off')  # Oculta os eixos\n",
        "            plt.show()               \n",
        "        else:\n",
        "            plt.imshow(imagem)        \n",
        "            plt.axis('off')  # Oculta os eixos\n",
        "            plt.show()   "
      ]
    },
    {
      "cell_type": "markdown",
      "metadata": {
        "id": "bipgeKmoAylK"
      },
      "source": [
        "# Escala de cinza (*grayscale*)"
      ]
    },
    {
      "cell_type": "code",
      "execution_count": null,
      "metadata": {
        "colab": {
          "base_uri": "https://localhost:8080/",
          "height": 117
        },
        "id": "PRZjM0bH3nx8",
        "outputId": "7f61f5fc-c2aa-4d96-dccc-f44e796ec8b0"
      },
      "outputs": [],
      "source": [
        "img = cv2.imread('./Imagens/img-process.jpg')\n",
        "imshow(img)"
      ]
    },
    {
      "cell_type": "code",
      "execution_count": null,
      "metadata": {
        "colab": {
          "base_uri": "https://localhost:8080/",
          "height": 117
        },
        "id": "P6ZbTY0v34bw",
        "outputId": "45075124-1e9e-473b-e353-50364b92997b"
      },
      "outputs": [],
      "source": [
        "gray = cv2.cvtColor(img, cv2.COLOR_BGR2GRAY)\n",
        "imshow(gray)"
      ]
    },
    {
      "cell_type": "markdown",
      "metadata": {
        "id": "SdjS1tMMzTDi"
      },
      "source": [
        "# Limiarização  (*thresholding*)"
      ]
    },
    {
      "cell_type": "markdown",
      "metadata": {
        "id": "9aF2WHoav1rb"
      },
      "source": [
        "## Limiarização Simples (*Threshold*)"
      ]
    },
    {
      "cell_type": "code",
      "execution_count": null,
      "metadata": {
        "colab": {
          "base_uri": "https://localhost:8080/",
          "height": 172
        },
        "id": "L91fIxW5-r7n",
        "outputId": "184abf3d-7da8-4102-dc79-bc7e247edacc"
      },
      "outputs": [],
      "source": [
        "img = cv2.imread('./Imagens/trecho-livro.jpg')\n",
        "imshow(img)"
      ]
    },
    {
      "cell_type": "code",
      "execution_count": null,
      "metadata": {
        "colab": {
          "base_uri": "https://localhost:8080/",
          "height": 172
        },
        "id": "QiB123Fo-7iG",
        "outputId": "9777d258-6265-4b6d-ab88-fa89854e6ea3"
      },
      "outputs": [],
      "source": [
        "gray = cv2.cvtColor(img, cv2.COLOR_BGR2GRAY)\n",
        "imshow(gray)"
      ]
    },
    {
      "cell_type": "code",
      "execution_count": null,
      "metadata": {
        "colab": {
          "base_uri": "https://localhost:8080/",
          "height": 172
        },
        "id": "3h3uog4Y_hNS",
        "outputId": "0a318734-e674-4959-9afe-93268b9526b7"
      },
      "outputs": [],
      "source": [
        "val, thresh = cv2.threshold(gray, 127, 255, cv2.THRESH_BINARY)\n",
        "imshow(thresh)"
      ]
    },
    {
      "cell_type": "code",
      "execution_count": null,
      "metadata": {
        "colab": {
          "base_uri": "https://localhost:8080/"
        },
        "id": "1e2S33YRAFfb",
        "outputId": "db49716f-7e63-425f-8ee7-9a165d5624af"
      },
      "outputs": [],
      "source": [
        "val"
      ]
    },
    {
      "cell_type": "code",
      "execution_count": null,
      "metadata": {
        "colab": {
          "base_uri": "https://localhost:8080/",
          "height": 172
        },
        "id": "ZD8fWANQALyI",
        "outputId": "0d9353c4-a2f5-4481-d076-0db017a0229e"
      },
      "outputs": [],
      "source": [
        "val, thresh = cv2.threshold(gray, 180, 255, cv2.THRESH_BINARY)\n",
        "imshow(thresh)"
      ]
    },
    {
      "cell_type": "code",
      "execution_count": null,
      "metadata": {
        "colab": {
          "base_uri": "https://localhost:8080/",
          "height": 172
        },
        "id": "IzLv-z6hAcTh",
        "outputId": "67065c52-8187-46ce-b8a1-c6c02413c51b"
      },
      "outputs": [],
      "source": [
        "val, thresh = cv2.threshold(gray, 140, 255, cv2.THRESH_BINARY)\n",
        "imshow(thresh)"
      ]
    },
    {
      "cell_type": "markdown",
      "metadata": {
        "id": "ewB6IIhtwPsR"
      },
      "source": [
        "## Método de Otsu"
      ]
    },
    {
      "cell_type": "code",
      "execution_count": null,
      "metadata": {
        "colab": {
          "base_uri": "https://localhost:8080/",
          "height": 189
        },
        "id": "4C_EeHY_BbWe",
        "outputId": "cb7e229e-2f98-4d7c-8b6c-575f826f2b62"
      },
      "outputs": [],
      "source": [
        "val, otsu = cv2.threshold(gray, 0, 255, cv2.THRESH_BINARY | cv2.THRESH_OTSU)\n",
        "imshow(otsu)\n",
        "print(val)"
      ]
    },
    {
      "cell_type": "code",
      "execution_count": null,
      "metadata": {
        "colab": {
          "base_uri": "https://localhost:8080/",
          "height": 435
        },
        "id": "TA6ojtrbCACv",
        "outputId": "7976e948-1c44-43ee-dcaf-d941ba4cf8f8"
      },
      "outputs": [],
      "source": [
        "img = cv2.imread('./Imagens/receita01.jpg')\n",
        "gray = cv2.cvtColor(img, cv2.COLOR_BGR2GRAY)\n",
        "val, thresh = cv2.threshold(gray, 138, 255, cv2.THRESH_BINARY)\n",
        "imshow(thresh)"
      ]
    },
    {
      "cell_type": "code",
      "execution_count": null,
      "metadata": {
        "colab": {
          "base_uri": "https://localhost:8080/",
          "height": 452
        },
        "id": "1AJpbTu-Ck7G",
        "outputId": "60e844f8-0843-4cbb-d403-5aec394e7961"
      },
      "outputs": [],
      "source": [
        "val, otsu = cv2.threshold(gray, 0, 255, cv2.THRESH_BINARY | cv2.THRESH_OTSU)\n",
        "imshow(otsu)\n",
        "print(val)"
      ]
    },
    {
      "cell_type": "markdown",
      "metadata": {
        "id": "seF6NJq5v7Z4"
      },
      "source": [
        "## Limiarização Adaptativa"
      ]
    },
    {
      "cell_type": "code",
      "execution_count": null,
      "metadata": {
        "colab": {
          "base_uri": "https://localhost:8080/",
          "height": 422
        },
        "id": "cF2stHn5DzU4",
        "outputId": "081c9df7-a2c8-4d66-a136-f81e80b1262c"
      },
      "outputs": [],
      "source": [
        "img = cv2.imread('./Imagens/livro02.jpg')\n",
        "imshow(img)\n",
        "gray = cv2.cvtColor(img, cv2.COLOR_BGR2GRAY)\n",
        "val, otsu = cv2.threshold(gray, 0, 255, cv2.THRESH_BINARY | cv2.THRESH_OTSU)\n",
        "imshow(otsu)\n",
        "print(val)"
      ]
    },
    {
      "cell_type": "code",
      "execution_count": null,
      "metadata": {
        "colab": {
          "base_uri": "https://localhost:8080/",
          "height": 211
        },
        "id": "T48kAsHzEkz_",
        "outputId": "2a9f6dae-c327-4a13-86c4-7c7de6976379"
      },
      "outputs": [],
      "source": [
        "adapt_media = cv2.adaptiveThreshold(gray, 255, cv2.ADAPTIVE_THRESH_MEAN_C, cv2.THRESH_BINARY, 11, 9)\n",
        "imshow(adapt_media)"
      ]
    },
    {
      "cell_type": "markdown",
      "metadata": {
        "id": "uOzNVM7R5c1A"
      },
      "source": [
        "## Limiarização Adaptativa Gaussiana"
      ]
    },
    {
      "cell_type": "code",
      "execution_count": null,
      "metadata": {
        "colab": {
          "base_uri": "https://localhost:8080/",
          "height": 429
        },
        "id": "SQqUZ1FTOa4p",
        "outputId": "27982fb7-f042-467f-a053-a61e1fabeaef"
      },
      "outputs": [],
      "source": [
        "img = cv2.imread('./Imagens/livro_adaptativa.jpg')\n",
        "imshow(img)"
      ]
    },
    {
      "cell_type": "code",
      "execution_count": null,
      "metadata": {
        "colab": {
          "base_uri": "https://localhost:8080/",
          "height": 429
        },
        "id": "P2tTfovIOttf",
        "outputId": "256e5327-a2ad-49dc-d266-42b13124e5cf"
      },
      "outputs": [],
      "source": [
        "gray = cv2.cvtColor(img, cv2.COLOR_BGR2GRAY)\n",
        "adapt_media_gauss = cv2.adaptiveThreshold(gray, 255, cv2.ADAPTIVE_THRESH_GAUSSIAN_C, cv2.THRESH_BINARY, 11, 9)\n",
        "imshow(adapt_media_gauss)"
      ]
    },
    {
      "cell_type": "code",
      "execution_count": null,
      "metadata": {
        "colab": {
          "base_uri": "https://localhost:8080/",
          "height": 429
        },
        "id": "e1fNXfOGPRUA",
        "outputId": "c62c9cde-9e23-4665-9cb1-a8eb33010ce9"
      },
      "outputs": [],
      "source": [
        "adapt_media = cv2.adaptiveThreshold(gray, 255, cv2.ADAPTIVE_THRESH_MEAN_C, cv2.THRESH_BINARY, 11, 9)\n",
        "imshow(adapt_media)"
      ]
    },
    {
      "cell_type": "markdown",
      "metadata": {
        "id": "fQRY-d9hVl7Q"
      },
      "source": [
        "# Inversão"
      ]
    },
    {
      "cell_type": "code",
      "execution_count": null,
      "metadata": {
        "colab": {
          "base_uri": "https://localhost:8080/",
          "height": 117
        },
        "id": "QhOuSw9qQKdk",
        "outputId": "c708d2a8-8feb-4698-fc9b-f719a8934542"
      },
      "outputs": [],
      "source": [
        "img = cv2.imread('./Imagens/img-process.jpg')\n",
        "gray = cv2.cvtColor(img, cv2.COLOR_BGR2GRAY)\n",
        "imshow(gray)"
      ]
    },
    {
      "cell_type": "code",
      "execution_count": null,
      "metadata": {
        "colab": {
          "base_uri": "https://localhost:8080/"
        },
        "id": "UBdr3O2tQa_e",
        "outputId": "a990ef67-0119-4b38-e798-e3932bf97533"
      },
      "outputs": [],
      "source": [
        "gray"
      ]
    },
    {
      "cell_type": "code",
      "execution_count": 32,
      "metadata": {
        "id": "HK7WplubQhrP"
      },
      "outputs": [],
      "source": [
        "invert = 255 - gray"
      ]
    },
    {
      "cell_type": "code",
      "execution_count": null,
      "metadata": {
        "colab": {
          "base_uri": "https://localhost:8080/"
        },
        "id": "9Y344evMQlu9",
        "outputId": "57cdae08-29a3-44f3-c757-ac94ce1d89ce"
      },
      "outputs": [],
      "source": [
        "invert"
      ]
    },
    {
      "cell_type": "code",
      "execution_count": null,
      "metadata": {
        "colab": {
          "base_uri": "https://localhost:8080/",
          "height": 117
        },
        "id": "b7jws9RjQr8K",
        "outputId": "cd342a37-0e7f-482f-e57f-dc9c0f122e19"
      },
      "outputs": [],
      "source": [
        "imshow(invert)"
      ]
    },
    {
      "cell_type": "code",
      "execution_count": null,
      "metadata": {
        "colab": {
          "base_uri": "https://localhost:8080/",
          "height": 435
        },
        "id": "5TZ4cuZwQ5ey",
        "outputId": "1bc760b0-86bb-4b33-ca47-35a83b29fc37"
      },
      "outputs": [],
      "source": [
        "imshow(thresh)"
      ]
    },
    {
      "cell_type": "code",
      "execution_count": null,
      "metadata": {
        "colab": {
          "base_uri": "https://localhost:8080/",
          "height": 435
        },
        "id": "VP2TwGrzRDy0",
        "outputId": "fb510a07-d4b4-453f-90a3-4d581c070c7b"
      },
      "outputs": [],
      "source": [
        "invert = 255 - thresh\n",
        "imshow(invert)"
      ]
    },
    {
      "cell_type": "markdown",
      "metadata": {
        "id": "rs6WUpOyy-zr"
      },
      "source": [
        "# Redimensionamento\n",
        "\n",
        "- INTER_NEAREST - uma interpolação de vizinho mais próximo. É muito usado por ser o mais rápido.\n",
        "- INTER_LINEAR - uma interpolação bilinear (é usada por padrão), boa no geral para aumentar e também pra diminuir imagens.\n",
        "- INTER_AREA - usa a relação de área de pixel. Pode ser um método preferido para a redução de imagens pois fornece resultados sem moiré (efeito geralmente indesejado na imagem). Mas quando a imagem é ampliada, é semelhante ao método INTER_NEAREST.\n",
        "- INTER_CUBIC - bicúbica (4x4 pixel vizinhos). Possui resultados melhores.\n",
        "- INTER_LANCZOS4 - interpolação Lanczos (8x8 pixel vizinhos). Dentre esses algoritmos, é o que apresenta resultados com a melhor qualidade."
      ]
    },
    {
      "cell_type": "code",
      "execution_count": null,
      "metadata": {
        "colab": {
          "base_uri": "https://localhost:8080/",
          "height": 117
        },
        "id": "0mfmRqBMV3rM",
        "outputId": "4e09f2c2-2d61-4991-9496-4425adc3f300"
      },
      "outputs": [],
      "source": [
        "imshow(gray)"
      ]
    },
    {
      "cell_type": "code",
      "execution_count": null,
      "metadata": {
        "colab": {
          "base_uri": "https://localhost:8080/",
          "height": 167
        },
        "id": "3AmY2dSQV8ND",
        "outputId": "039000da-7442-434e-ec1a-c3c362b36dcf"
      },
      "outputs": [],
      "source": [
        "maior = cv2.resize(gray, None, fx=1.5, fy=1.5, interpolation=cv2.INTER_CUBIC)\n",
        "imshow(maior)"
      ]
    },
    {
      "cell_type": "code",
      "execution_count": null,
      "metadata": {
        "colab": {
          "base_uri": "https://localhost:8080/",
          "height": 67
        },
        "id": "g3LIw5zJWdqb",
        "outputId": "7a0f6672-e719-40fb-ca82-3786f2eedd08"
      },
      "outputs": [],
      "source": [
        "menor = cv2.resize(gray, None, fx = 0.5, fy = 0.5, interpolation=cv2.INTER_AREA)\n",
        "imshow(menor)"
      ]
    },
    {
      "cell_type": "markdown",
      "metadata": {
        "id": "w3o5xqtU53PP"
      },
      "source": [
        "# Operações Morfológicas"
      ]
    },
    {
      "cell_type": "code",
      "execution_count": null,
      "metadata": {
        "colab": {
          "base_uri": "https://localhost:8080/",
          "height": 350
        },
        "id": "T58FycqvcA7R",
        "outputId": "b15860b1-147e-4fde-fabc-04b5c72e7751"
      },
      "outputs": [],
      "source": [
        "img = cv2.imread('./Imagens/texto-opencv.jpg')\n",
        "gray = cv2.cvtColor(img, cv2.COLOR_BGR2GRAY)\n",
        "imshow(gray)"
      ]
    },
    {
      "cell_type": "markdown",
      "metadata": {
        "id": "ynfgU-FVz4DG"
      },
      "source": [
        "## Erosão"
      ]
    },
    {
      "cell_type": "code",
      "execution_count": null,
      "metadata": {
        "colab": {
          "base_uri": "https://localhost:8080/"
        },
        "id": "xsRWwK-qck9j",
        "outputId": "971bf31b-e8aa-4efd-f99c-5ddfabf47620"
      },
      "outputs": [],
      "source": [
        "np.ones((3, 3), np.uint8)"
      ]
    },
    {
      "cell_type": "code",
      "execution_count": null,
      "metadata": {
        "colab": {
          "base_uri": "https://localhost:8080/",
          "height": 350
        },
        "id": "30ZrfjcAcU0S",
        "outputId": "04337504-3880-41f3-b04b-35bd28ad1b04"
      },
      "outputs": [],
      "source": [
        "erosao = cv2.erode(gray, np.ones((3, 3), np.uint8))\n",
        "imshow(erosao)"
      ]
    },
    {
      "cell_type": "markdown",
      "metadata": {
        "id": "KvMCv_sJxPQk"
      },
      "source": [
        "## Dilatação"
      ]
    },
    {
      "cell_type": "code",
      "execution_count": null,
      "metadata": {
        "colab": {
          "base_uri": "https://localhost:8080/",
          "height": 350
        },
        "id": "nAk9PzCBdj4o",
        "outputId": "817992e2-df49-44e4-945a-5aaa6ce4c91a"
      },
      "outputs": [],
      "source": [
        "dilatacao = cv2.dilate(gray, np.ones((3,3), np.uint8))\n",
        "imshow(dilatacao)"
      ]
    },
    {
      "cell_type": "markdown",
      "metadata": {
        "id": "hsFy9wDXxsHP"
      },
      "source": [
        "## Abertura"
      ]
    },
    {
      "cell_type": "code",
      "execution_count": null,
      "metadata": {
        "colab": {
          "base_uri": "https://localhost:8080/",
          "height": 1000
        },
        "id": "elxNEYykd7sv",
        "outputId": "48e51d24-4329-42e4-f3ba-559fe73e2860"
      },
      "outputs": [],
      "source": [
        "erosao = cv2.erode(gray, np.ones((5, 5), np.uint8))\n",
        "abertura = cv2.dilate(erosao, np.ones((5,5), np.uint8))\n",
        "imshow(gray)\n",
        "imshow(erosao)\n",
        "imshow(abertura)"
      ]
    },
    {
      "cell_type": "markdown",
      "metadata": {
        "id": "tB7qppAw1PJ1"
      },
      "source": [
        "## Fechamento"
      ]
    },
    {
      "cell_type": "code",
      "execution_count": null,
      "metadata": {
        "colab": {
          "base_uri": "https://localhost:8080/",
          "height": 350
        },
        "id": "q7kAn8m7e6CY",
        "outputId": "e27fd317-8379-4c2d-9e15-9ce7006827df"
      },
      "outputs": [],
      "source": [
        "img = cv2.imread('./Imagens/texto-opencv2.jpg')\n",
        "gray = cv2.cvtColor(img, cv2.COLOR_BGR2GRAY)\n",
        "imshow(gray)"
      ]
    },
    {
      "cell_type": "code",
      "execution_count": null,
      "metadata": {
        "colab": {
          "base_uri": "https://localhost:8080/",
          "height": 1000
        },
        "id": "9l8I03_efK8Q",
        "outputId": "8155f96d-f320-4db5-fa8c-db6853557a37"
      },
      "outputs": [],
      "source": [
        "dilatacao = cv2.dilate(gray, np.ones((5,5)))\n",
        "fechamento = cv2.erode(dilatacao, np.ones((5,5)))\n",
        "imshow(gray)\n",
        "imshow(dilatacao)\n",
        "imshow(fechamento)"
      ]
    },
    {
      "cell_type": "markdown",
      "metadata": {
        "id": "e-G8dWZKzLQT"
      },
      "source": [
        "# Remoção de Ruído"
      ]
    },
    {
      "cell_type": "markdown",
      "metadata": {
        "id": "3x0fDWeLzPy_"
      },
      "source": [
        "## Desfoque com Média"
      ]
    },
    {
      "cell_type": "code",
      "execution_count": null,
      "metadata": {
        "colab": {
          "base_uri": "https://localhost:8080/",
          "height": 83
        },
        "id": "qBbXEbOlmepZ",
        "outputId": "0075151d-9206-4916-95c9-d396c7cd0840"
      },
      "outputs": [],
      "source": [
        "img = cv2.imread('./Imagens/teste_ruido.jpg')\n",
        "gray = cv2.cvtColor(img, cv2.COLOR_BGR2GRAY)\n",
        "imshow(gray)"
      ]
    },
    {
      "cell_type": "code",
      "execution_count": null,
      "metadata": {
        "colab": {
          "base_uri": "https://localhost:8080/",
          "height": 83
        },
        "id": "bAZwnTWBmufa",
        "outputId": "0f3d081a-d3cf-40fc-bfa6-b5650ab87287"
      },
      "outputs": [],
      "source": [
        "desfoque_media = cv2.blur(gray, (5,5))\n",
        "imshow(desfoque_media)"
      ]
    },
    {
      "cell_type": "markdown",
      "metadata": {
        "id": "QCJNTun3q48j"
      },
      "source": [
        "## Desfoque Gaussiano\n"
      ]
    },
    {
      "cell_type": "code",
      "execution_count": null,
      "metadata": {
        "colab": {
          "base_uri": "https://localhost:8080/",
          "height": 83
        },
        "id": "YLAg2NginP_y",
        "outputId": "f90c326b-cc24-4314-c5d4-0349944cdc17"
      },
      "outputs": [],
      "source": [
        "desfoque_gaussiano = cv2.GaussianBlur(gray, (5, 5), 0)\n",
        "imshow(desfoque_gaussiano)"
      ]
    },
    {
      "cell_type": "markdown",
      "metadata": {
        "id": "-nEyT7hLs22p"
      },
      "source": [
        "## Desfoque com Mediana"
      ]
    },
    {
      "cell_type": "code",
      "execution_count": null,
      "metadata": {
        "colab": {
          "base_uri": "https://localhost:8080/",
          "height": 83
        },
        "id": "JyGsK0NxoxOA",
        "outputId": "83dc9390-af15-49e3-ad4c-ceb983be80e7"
      },
      "outputs": [],
      "source": [
        "desfoque_mediana = cv2.medianBlur(gray, 3)\n",
        "imshow(desfoque_mediana)"
      ]
    },
    {
      "cell_type": "markdown",
      "metadata": {
        "id": "0pgfLMq0t9qx"
      },
      "source": [
        "## Filtro bilateral"
      ]
    },
    {
      "cell_type": "code",
      "execution_count": null,
      "metadata": {
        "colab": {
          "base_uri": "https://localhost:8080/",
          "height": 83
        },
        "id": "MhOBmhOvpIbm",
        "outputId": "e4c9062c-75e4-4b8c-a479-6cc148d13ffe"
      },
      "outputs": [],
      "source": [
        "desfoque_bilateral = cv2.bilateralFilter(gray, 15, 55, 45)\n",
        "imshow(desfoque_bilateral)"
      ]
    },
    {
      "cell_type": "markdown",
      "metadata": {
        "id": "469o1qwiZpzV"
      },
      "source": [
        "# Detecção de textos"
      ]
    },
    {
      "cell_type": "code",
      "execution_count": null,
      "metadata": {
        "id": "U-f9kTv4q6ue"
      },
      "outputs": [],
      "source": [
        "!sudo apt install tesseract-ocr\n",
        "!pip install pytesseract"
      ]
    },
    {
      "cell_type": "code",
      "execution_count": 53,
      "metadata": {
        "id": "Jhs1JivLrJTA"
      },
      "outputs": [],
      "source": [
        "import pytesseract"
      ]
    },
    {
      "cell_type": "markdown",
      "metadata": {
        "id": "bOvvVXWjt3cc"
      },
      "source": [
        "*Aviso: em setembro de 2021 o link para baixar o **por.traineddata** sofreu uma pequena alteração [ para mais explicações consulte a aula \"Resolvendo problema relacionado ao pacote de idiomas\" ]*\n",
        "\n",
        "Portanto, o link final ficou: https://github.com/tesseract-ocr/tessdata/blob/main/por.traineddata?raw=true (segue abaixo o comando completo)"
      ]
    },
    {
      "cell_type": "code",
      "execution_count": null,
      "metadata": {
        "colab": {
          "base_uri": "https://localhost:8080/"
        },
        "id": "KfpDTtAPrl3j",
        "outputId": "b60bde1b-5c57-47b8-c3ff-2f8dc6cf06f4"
      },
      "outputs": [],
      "source": [
        "!mkdir tessdata\n",
        "!wget -O ./tessdata/por.traineddata https://github.com/tesseract-ocr/tessdata/blob/main/por.traineddata?raw=true"
      ]
    },
    {
      "cell_type": "code",
      "execution_count": null,
      "metadata": {
        "colab": {
          "base_uri": "https://localhost:8080/",
          "height": 435
        },
        "id": "5OazLPynrudD",
        "outputId": "bc6be858-0a1b-4f68-ba6f-a8df112c3538"
      },
      "outputs": [],
      "source": [
        "imshow(thresh)"
      ]
    },
    {
      "cell_type": "code",
      "execution_count": null,
      "metadata": {
        "colab": {
          "base_uri": "https://localhost:8080/"
        },
        "id": "SpnODmA9ryvO",
        "outputId": "ea3c4759-31b5-4dec-9249-ac61fd22276c"
      },
      "outputs": [],
      "source": [
        "config_tesseract = '--tessdata-dir tessdata'\n",
        "texto = pytesseract.image_to_string(thresh, lang='por', config=config_tesseract)\n",
        "print(texto)"
      ]
    },
    {
      "cell_type": "markdown",
      "metadata": {
        "id": "40SD8Juxq9f3"
      },
      "source": [
        "# Exercício"
      ]
    },
    {
      "cell_type": "code",
      "execution_count": null,
      "metadata": {
        "colab": {
          "base_uri": "https://localhost:8080/",
          "height": 417
        },
        "id": "FeCRw0LFt6YU",
        "outputId": "6081c91c-e1f8-4310-c95d-b239f142c2a0"
      },
      "outputs": [],
      "source": [
        "img = cv2.imread('./Imagens/frase.jpg')\n",
        "imshow(img)"
      ]
    },
    {
      "cell_type": "code",
      "execution_count": null,
      "metadata": {
        "colab": {
          "base_uri": "https://localhost:8080/",
          "height": 417
        },
        "id": "ZBvzhp55uFp3",
        "outputId": "75fe7a5b-70ce-47b6-ef3e-7f9376b14115"
      },
      "outputs": [],
      "source": [
        "gray = cv2.cvtColor(img, cv2.COLOR_BGR2GRAY)\n",
        "imshow(gray)"
      ]
    },
    {
      "cell_type": "code",
      "execution_count": null,
      "metadata": {
        "colab": {
          "base_uri": "https://localhost:8080/",
          "height": 435
        },
        "id": "xeGOFZlTue7f",
        "outputId": "8e8a0652-6199-4175-b4bc-beaf81ee4e36"
      },
      "outputs": [],
      "source": [
        "val, thresh = cv2.threshold(gray, 180, 255, cv2.THRESH_BINARY)\n",
        "imshow(thresh)\n",
        "print(val)"
      ]
    },
    {
      "cell_type": "code",
      "execution_count": null,
      "metadata": {
        "colab": {
          "base_uri": "https://localhost:8080/",
          "height": 417
        },
        "id": "L6L8JaiZuyb8",
        "outputId": "fb569203-b1f0-43b9-924f-c8c3f787a01a"
      },
      "outputs": [],
      "source": [
        "invert = 255 - thresh\n",
        "imshow(invert)"
      ]
    },
    {
      "cell_type": "code",
      "execution_count": null,
      "metadata": {
        "colab": {
          "base_uri": "https://localhost:8080/"
        },
        "id": "-fJBg0iyu62f",
        "outputId": "8a30fa7c-f711-4d29-9361-5e9643e61694"
      },
      "outputs": [],
      "source": [
        "print(pytesseract.image_to_string(thresh, lang='por', config=config_tesseract))"
      ]
    }
  ],
  "metadata": {
    "colab": {
      "provenance": []
    },
    "kernelspec": {
      "display_name": "Python 3",
      "name": "python3"
    },
    "language_info": {
      "codemirror_mode": {
        "name": "ipython",
        "version": 3
      },
      "file_extension": ".py",
      "mimetype": "text/x-python",
      "name": "python",
      "nbconvert_exporter": "python",
      "pygments_lexer": "ipython3",
      "version": "3.11.0"
    }
  },
  "nbformat": 4,
  "nbformat_minor": 0
}
