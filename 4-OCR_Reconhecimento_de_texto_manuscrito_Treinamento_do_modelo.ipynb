{
  "cells": [
    {
      "cell_type": "markdown",
      "metadata": {
        "id": "qsTIg3Uo5kqo"
      },
      "source": [
        "# Treinamento de modelo próprio para reconhecimento de texto manuscrito\n",
        "\n"
      ]
    },
    {
      "cell_type": "markdown",
      "metadata": {},
      "source": [
        "<a href=\"https://colab.research.google.com/github/fabiobento/ocr-sis-emb-2024-2/blob/main/4-OCR_Reconhecimento_de_texto_manuscrito_Treinamento_do_modelo.ipynb\" target=\"_parent\"><img src=\"https://colab.research.google.com/assets/colab-badge.svg\" alt=\"Open In Colab\"/></a>"
      ]
    },
    {
      "cell_type": "code",
      "execution_count": null,
      "metadata": {},
      "outputs": [],
      "source": [
        "try:\n",
        "    import google.colab\n",
        "    IN_COLAB = True\n",
        "    print(\"Executando no Google Colab\")\n",
        "except ImportError:\n",
        "    IN_COLAB = False\n",
        "    print(\"Não executando no Google Colab\")"
      ]
    },
    {
      "cell_type": "code",
      "execution_count": 367,
      "metadata": {},
      "outputs": [],
      "source": [
        "if IN_COLAB:\n",
        "    # Baixar imagens para o laboratório.\n",
        "    !wget https://github.com/fabiobento/ocr-sis-emb-2024-2/raw/refs/heads/main/imagens.zip\n",
        "    !unzip -n -q imagens.zip"
      ]
    },
    {
      "cell_type": "markdown",
      "metadata": {
        "id": "HRdOYuPRDMwy"
      },
      "source": [
        "# Importando as bibliotecas"
      ]
    },
    {
      "cell_type": "code",
      "execution_count": null,
      "metadata": {
        "colab": {
          "base_uri": "https://localhost:8080/",
          "height": 37
        },
        "id": "Rbi8it_F2Rny",
        "outputId": "7deb7174-08bb-4ecb-86b7-f1a852399dfb"
      },
      "outputs": [],
      "source": [
        "import tensorflow\n",
        "tensorflow.__version__"
      ]
    },
    {
      "cell_type": "code",
      "execution_count": 369,
      "metadata": {
        "id": "0oBTzF_32aPm"
      },
      "outputs": [],
      "source": [
        "import numpy as np\n",
        "import zipfile\n",
        "import pandas as pd\n",
        "import matplotlib.pyplot as plt\n",
        "import seaborn as sns\n",
        "import cv2\n",
        "from sklearn.preprocessing import LabelBinarizer\n",
        "from sklearn.model_selection import train_test_split\n",
        "from sklearn.metrics import classification_report\n",
        "import matplotlib.pyplot as plt\n",
        "if IN_COLAB:\n",
        "    from google.colab.patches import cv2_imshow"
      ]
    },
    {
      "cell_type": "code",
      "execution_count": 370,
      "metadata": {},
      "outputs": [],
      "source": [
        "# Definir função para exibição de imagens\n",
        "def imshow(imagem):\n",
        "    if IN_COLAB:\n",
        "        cv2_imshow(imagem)\n",
        "    else:\n",
        "        # Exibir a imagem com matplotlib\n",
        "        if len(imagem.shape) == 2:  # Se a imagem tiver apenas 2 dimensões (níveis de cinza)\n",
        "            plt.imshow(imagem, cmap='gray')\n",
        "            plt.axis('off')  # Oculta os eixos\n",
        "            plt.show()               \n",
        "        else:\n",
        "            plt.imshow(imagem)        \n",
        "            plt.axis('off')  # Oculta os eixos\n",
        "            plt.show()   "
      ]
    },
    {
      "cell_type": "markdown",
      "metadata": {
        "id": "lvOhfiPrDQ9W"
      },
      "source": [
        "# Carregando as bases de dados"
      ]
    },
    {
      "cell_type": "markdown",
      "metadata": {
        "id": "f03RaQkx5a9l"
      },
      "source": [
        "## Conjunto MNIST 0-9"
      ]
    },
    {
      "cell_type": "code",
      "execution_count": 371,
      "metadata": {
        "id": "6ewmflkc3-gh"
      },
      "outputs": [],
      "source": [
        "from tensorflow.keras.datasets import mnist"
      ]
    },
    {
      "cell_type": "code",
      "execution_count": 372,
      "metadata": {
        "colab": {
          "base_uri": "https://localhost:8080/"
        },
        "id": "9cMc-m134F1s",
        "outputId": "1e8758c5-77f2-427d-a3d0-651407b5b248"
      },
      "outputs": [],
      "source": [
        "(train_data, train_labels), (test_data, test_labels) = mnist.load_data()"
      ]
    },
    {
      "cell_type": "code",
      "execution_count": null,
      "metadata": {
        "colab": {
          "base_uri": "https://localhost:8080/"
        },
        "id": "s9kTLdkE4TtL",
        "outputId": "b2783053-0f8e-49b0-c871-69a86b9aaa4e"
      },
      "outputs": [],
      "source": [
        "train_data.shape, test_data.shape"
      ]
    },
    {
      "cell_type": "code",
      "execution_count": null,
      "metadata": {
        "colab": {
          "base_uri": "https://localhost:8080/"
        },
        "id": "0l7ht6JC4pfh",
        "outputId": "2617d35f-7532-4038-d561-8d53e89dab69"
      },
      "outputs": [],
      "source": [
        "28 * 28"
      ]
    },
    {
      "cell_type": "code",
      "execution_count": null,
      "metadata": {
        "colab": {
          "base_uri": "https://localhost:8080/"
        },
        "id": "ZjwJDYCK4x6y",
        "outputId": "91b09904-cb8e-4ee2-8fa0-63ab4a98d519"
      },
      "outputs": [],
      "source": [
        "train_labels.shape, test_labels.shape"
      ]
    },
    {
      "cell_type": "code",
      "execution_count": null,
      "metadata": {
        "colab": {
          "base_uri": "https://localhost:8080/"
        },
        "id": "6PtWBttp47VC",
        "outputId": "1f32a9a7-31f0-4c38-9511-0a2f42a1250e"
      },
      "outputs": [],
      "source": [
        "train_data[0]"
      ]
    },
    {
      "cell_type": "code",
      "execution_count": null,
      "metadata": {
        "colab": {
          "base_uri": "https://localhost:8080/"
        },
        "id": "RrOgGHFt5GYC",
        "outputId": "f9042e48-2e5c-4cc9-b896-45f4a10aa84c"
      },
      "outputs": [],
      "source": [
        "train_data[0].shape"
      ]
    },
    {
      "cell_type": "code",
      "execution_count": null,
      "metadata": {
        "colab": {
          "base_uri": "https://localhost:8080/"
        },
        "id": "By66ip-S5Nwi",
        "outputId": "b5550ea0-4c97-4241-b3ac-9d7a56f4fb63"
      },
      "outputs": [],
      "source": [
        "train_labels[0]"
      ]
    },
    {
      "cell_type": "code",
      "execution_count": 379,
      "metadata": {
        "id": "_i7f9xrM5Z0R"
      },
      "outputs": [],
      "source": [
        "digitos_data = np.vstack([train_data, test_data])\n",
        "digitos_labels = np.hstack([train_labels, test_labels])"
      ]
    },
    {
      "cell_type": "code",
      "execution_count": null,
      "metadata": {
        "colab": {
          "base_uri": "https://localhost:8080/"
        },
        "id": "Ae_yf4o_5sWl",
        "outputId": "c29fc69a-e26e-49bf-d2c6-0ef1d1315818"
      },
      "outputs": [],
      "source": [
        "digitos_data.shape"
      ]
    },
    {
      "cell_type": "code",
      "execution_count": null,
      "metadata": {
        "colab": {
          "base_uri": "https://localhost:8080/"
        },
        "id": "8s6lNNfC5vtO",
        "outputId": "0399a52f-21f3-4cb7-e321-1e91f2c44d6f"
      },
      "outputs": [],
      "source": [
        "digitos_labels.shape"
      ]
    },
    {
      "cell_type": "code",
      "execution_count": null,
      "metadata": {
        "colab": {
          "base_uri": "https://localhost:8080/"
        },
        "id": "SwB4YFmU5y0D",
        "outputId": "2da6b443-fa09-4e50-a075-bcfe3456e4a8"
      },
      "outputs": [],
      "source": [
        "digitos_labels"
      ]
    },
    {
      "cell_type": "code",
      "execution_count": null,
      "metadata": {
        "colab": {
          "base_uri": "https://localhost:8080/"
        },
        "id": "vWYb01mM6KPI",
        "outputId": "3923cb2c-95d5-4f2b-a19b-c5c4bc68c96c"
      },
      "outputs": [],
      "source": [
        "np.random.randint(0, digitos_data.shape[0])"
      ]
    },
    {
      "cell_type": "code",
      "execution_count": null,
      "metadata": {
        "colab": {
          "base_uri": "https://localhost:8080/",
          "height": 281
        },
        "id": "-MbJtwkk56KR",
        "outputId": "84a7652d-36f1-4f9e-f6dc-7c3a1335a852"
      },
      "outputs": [],
      "source": [
        "indice = np.random.randint(0, digitos_data.shape[0])\n",
        "plt.imshow(digitos_data[indice], cmap='gray')\n",
        "plt.title('Classe: ' + str(digitos_labels[indice]));"
      ]
    },
    {
      "cell_type": "code",
      "execution_count": null,
      "metadata": {},
      "outputs": [],
      "source": [
        "sns.countplot(x=digitos_labels,hue=digitos_labels, palette=\"Set2\", legend=False)"
      ]
    },
    {
      "cell_type": "markdown",
      "metadata": {
        "id": "O_AA33brDfMf"
      },
      "source": [
        "## Conjunto Kaggle A-Z"
      ]
    },
    {
      "cell_type": "code",
      "execution_count": 386,
      "metadata": {},
      "outputs": [],
      "source": [
        "if IN_COLAB:\n",
        "  # Baixar imagens do conjunto de dados\n",
        "  %pip install gdown\n",
        "  !gdown --id 1udg4POqbFlozb9OemBNYKw4prQ4Dmh9s -O alfabeto_A-Z.zip\n",
        "  !unzip -n -q alfabeto_A-Z.zip"
      ]
    },
    {
      "cell_type": "code",
      "execution_count": 387,
      "metadata": {
        "id": "26E5DQjG8h76"
      },
      "outputs": [],
      "source": [
        "dataset_az = pd.read_csv('./Datasets/A_Z Handwritten Data.csv').astype('float32')"
      ]
    },
    {
      "cell_type": "code",
      "execution_count": 388,
      "metadata": {
        "colab": {
          "base_uri": "https://localhost:8080/",
          "height": 447
        },
        "id": "tALehvSH8u2E",
        "outputId": "e9f0c202-0e15-4273-af84-bd00d33fd5a4"
      },
      "outputs": [],
      "source": [
        "#dataset_az"
      ]
    },
    {
      "cell_type": "code",
      "execution_count": 389,
      "metadata": {
        "id": "PtKEDDSk9dCm"
      },
      "outputs": [],
      "source": [
        "alfabeto_data = dataset_az.drop('0', axis = 1)\n",
        "alfabeto_labels = dataset_az['0']"
      ]
    },
    {
      "cell_type": "code",
      "execution_count": null,
      "metadata": {
        "colab": {
          "base_uri": "https://localhost:8080/"
        },
        "id": "Y6fYv4F59ukK",
        "outputId": "3479c593-92c5-48ee-d151-29ec97477254"
      },
      "outputs": [],
      "source": [
        "alfabeto_data.shape, alfabeto_labels.shape"
      ]
    },
    {
      "cell_type": "code",
      "execution_count": 391,
      "metadata": {
        "colab": {
          "base_uri": "https://localhost:8080/"
        },
        "id": "59UnFw9y940P",
        "outputId": "bf0ea55b-1000-4902-b75d-316a2a8f1d88"
      },
      "outputs": [],
      "source": [
        "#alfabeto_labels"
      ]
    },
    {
      "cell_type": "code",
      "execution_count": 392,
      "metadata": {
        "id": "19LsHBh--B25"
      },
      "outputs": [],
      "source": [
        "alfabeto_data = np.reshape(alfabeto_data.values, (alfabeto_data.shape[0], 28, 28))"
      ]
    },
    {
      "cell_type": "code",
      "execution_count": null,
      "metadata": {
        "colab": {
          "base_uri": "https://localhost:8080/"
        },
        "id": "ojSB3Lfw-MlL",
        "outputId": "f45783d5-aac8-4a63-98cd-4dcf4afe5920"
      },
      "outputs": [],
      "source": [
        "alfabeto_data.shape"
      ]
    },
    {
      "cell_type": "code",
      "execution_count": null,
      "metadata": {
        "colab": {
          "base_uri": "https://localhost:8080/",
          "height": 281
        },
        "id": "N0xbG02j-TCY",
        "outputId": "9657b97a-668c-4291-baeb-f9c089483bc9"
      },
      "outputs": [],
      "source": [
        "indice = np.random.randint(0, alfabeto_data.shape[0])\n",
        "plt.imshow(alfabeto_data[indice], cmap = 'gray')\n",
        "plt.title('Classe ' + str(alfabeto_labels[indice]))"
      ]
    },
    {
      "cell_type": "code",
      "execution_count": null,
      "metadata": {},
      "outputs": [],
      "source": [
        "alfabeto_labels_int = alfabeto_labels.astype(int)\n",
        "plt.figure(figsize=(12, 6))\n",
        "sns.countplot(x=alfabeto_labels_int,hue=alfabeto_labels_int, palette=\"Set2\", legend=False)"
      ]
    },
    {
      "cell_type": "markdown",
      "metadata": {
        "id": "TYUti9xDpE0x"
      },
      "source": [
        "## Junção das bases de dados"
      ]
    },
    {
      "cell_type": "code",
      "execution_count": null,
      "metadata": {
        "colab": {
          "base_uri": "https://localhost:8080/"
        },
        "id": "Yr9ECuejRAOZ",
        "outputId": "3f20b599-b175-41f3-ec32-b0ed5b5d115f"
      },
      "outputs": [],
      "source": [
        "digitos_labels, np.unique(digitos_labels)"
      ]
    },
    {
      "cell_type": "code",
      "execution_count": null,
      "metadata": {
        "colab": {
          "base_uri": "https://localhost:8080/"
        },
        "id": "XRy5_5ZQRH7n",
        "outputId": "742cc751-4959-43e4-9908-04475e8d0c67"
      },
      "outputs": [],
      "source": [
        "alfabeto_labels, np.unique(alfabeto_labels)"
      ]
    },
    {
      "cell_type": "code",
      "execution_count": 398,
      "metadata": {
        "id": "k9toBeb3RYmj"
      },
      "outputs": [],
      "source": [
        "alfabeto_labels += 10"
      ]
    },
    {
      "cell_type": "code",
      "execution_count": null,
      "metadata": {
        "colab": {
          "base_uri": "https://localhost:8080/"
        },
        "id": "aIVJD5kkRdYF",
        "outputId": "0677136b-fe2b-4b8d-cb92-2963181c43a6"
      },
      "outputs": [],
      "source": [
        "alfabeto_labels, np.unique(alfabeto_labels)"
      ]
    },
    {
      "cell_type": "code",
      "execution_count": 400,
      "metadata": {
        "id": "MoawPV8TRj4c"
      },
      "outputs": [],
      "source": [
        "data = np.vstack([alfabeto_data, digitos_data])\n",
        "labels = np.hstack([alfabeto_labels, digitos_labels])"
      ]
    },
    {
      "cell_type": "code",
      "execution_count": null,
      "metadata": {
        "colab": {
          "base_uri": "https://localhost:8080/"
        },
        "id": "glsccwwxR0bf",
        "outputId": "169aa18a-0f2f-4842-e968-47e4ffdd36db"
      },
      "outputs": [],
      "source": [
        "data.shape, labels.shape"
      ]
    },
    {
      "cell_type": "code",
      "execution_count": 402,
      "metadata": {
        "id": "BVVi9o73R6yM"
      },
      "outputs": [],
      "source": [
        "data = np.array(data, dtype='float32')"
      ]
    },
    {
      "cell_type": "code",
      "execution_count": null,
      "metadata": {
        "colab": {
          "base_uri": "https://localhost:8080/"
        },
        "id": "nds8kqbmSEWi",
        "outputId": "404cde6c-1995-4dfa-8782-55f04d4eab5b"
      },
      "outputs": [],
      "source": [
        "data.shape"
      ]
    },
    {
      "cell_type": "code",
      "execution_count": 404,
      "metadata": {
        "id": "lgvQLo_qSQhd"
      },
      "outputs": [],
      "source": [
        "data = np.expand_dims(data, axis = -1)"
      ]
    },
    {
      "cell_type": "code",
      "execution_count": null,
      "metadata": {
        "colab": {
          "base_uri": "https://localhost:8080/"
        },
        "id": "QS6P6gfiSbQZ",
        "outputId": "c6860e7e-1f64-4c71-d67a-22cd8b35282b"
      },
      "outputs": [],
      "source": [
        "data.shape"
      ]
    },
    {
      "cell_type": "markdown",
      "metadata": {
        "id": "SQhy9bL_QqeL"
      },
      "source": [
        "# Pré-processamento dos dados"
      ]
    },
    {
      "cell_type": "code",
      "execution_count": null,
      "metadata": {
        "colab": {
          "base_uri": "https://localhost:8080/"
        },
        "id": "L5KTgSrOTwnA",
        "outputId": "29569903-11f5-456a-bb0b-1613a35ad78b"
      },
      "outputs": [],
      "source": [
        "data[0].min(), data[0].max()"
      ]
    },
    {
      "cell_type": "code",
      "execution_count": 407,
      "metadata": {
        "id": "RN6dLX_-UGnD"
      },
      "outputs": [],
      "source": [
        "data /= 255.0"
      ]
    },
    {
      "cell_type": "code",
      "execution_count": null,
      "metadata": {
        "colab": {
          "base_uri": "https://localhost:8080/"
        },
        "id": "SpToJP0XUZ6I",
        "outputId": "e2d5ceac-6357-40d0-d8df-21321aa597d7"
      },
      "outputs": [],
      "source": [
        "data[0].min(), data[0].max()"
      ]
    },
    {
      "cell_type": "code",
      "execution_count": null,
      "metadata": {
        "colab": {
          "base_uri": "https://localhost:8080/"
        },
        "id": "yia8cQF0UdEu",
        "outputId": "17237bb6-dc3f-46c0-d164-d34410634e2e"
      },
      "outputs": [],
      "source": [
        "np.unique(labels)"
      ]
    },
    {
      "cell_type": "code",
      "execution_count": 410,
      "metadata": {
        "id": "C7PpYfhbUk10"
      },
      "outputs": [],
      "source": [
        "le = LabelBinarizer()\n",
        "labels = le.fit_transform(labels)"
      ]
    },
    {
      "cell_type": "code",
      "execution_count": null,
      "metadata": {
        "colab": {
          "base_uri": "https://localhost:8080/"
        },
        "id": "eXjnB7iwUsH9",
        "outputId": "783d5b0e-4cb9-4e6c-96bd-97926eaeb12d"
      },
      "outputs": [],
      "source": [
        "np.unique(labels)"
      ]
    },
    {
      "cell_type": "code",
      "execution_count": null,
      "metadata": {
        "colab": {
          "base_uri": "https://localhost:8080/"
        },
        "id": "4BRBHp-pUxBv",
        "outputId": "f58d0aa9-c260-4b12-df51-b8f86b43ffb9"
      },
      "outputs": [],
      "source": [
        "labels"
      ]
    },
    {
      "cell_type": "code",
      "execution_count": null,
      "metadata": {
        "colab": {
          "base_uri": "https://localhost:8080/"
        },
        "id": "Yf1sofopU07u",
        "outputId": "6cc62a6f-13d1-47af-cae1-21354da8cb72"
      },
      "outputs": [],
      "source": [
        "labels[0]"
      ]
    },
    {
      "cell_type": "code",
      "execution_count": null,
      "metadata": {
        "colab": {
          "base_uri": "https://localhost:8080/"
        },
        "id": "80qWm_y2U3Qp",
        "outputId": "eee9543c-1558-42de-9880-83f2017a7f03"
      },
      "outputs": [],
      "source": [
        "labels[30000], len(labels[30000]), 26 + 10"
      ]
    },
    {
      "cell_type": "code",
      "execution_count": 415,
      "metadata": {
        "id": "VYmoX73VU7Lc"
      },
      "outputs": [],
      "source": [
        "# OneHotEncoder\n",
        "# A, B, C, Z\n",
        "# 0, 1, 2, 25\n",
        "\n",
        "# A, B, C\n",
        "# 1, 0, 0\n",
        "# 0, 1, 0\n",
        "# 0, 0, 1"
      ]
    },
    {
      "cell_type": "code",
      "execution_count": null,
      "metadata": {
        "colab": {
          "base_uri": "https://localhost:8080/"
        },
        "id": "wHoxDqSZV9qM",
        "outputId": "4d1d080f-3112-42e0-8f09-ef13373100b5"
      },
      "outputs": [],
      "source": [
        "classes_total = labels.sum(axis=0)\n",
        "classes_total"
      ]
    },
    {
      "cell_type": "code",
      "execution_count": null,
      "metadata": {
        "colab": {
          "base_uri": "https://localhost:8080/"
        },
        "id": "PgyCzNS0WINr",
        "outputId": "c86eb33f-92ca-4464-9c20-e68d1a6ea16e"
      },
      "outputs": [],
      "source": [
        "classes_total.max()"
      ]
    },
    {
      "cell_type": "code",
      "execution_count": null,
      "metadata": {
        "colab": {
          "base_uri": "https://localhost:8080/",
          "height": 281
        },
        "id": "LtbIVbIBWu6G",
        "outputId": "a801be4b-97ba-4d61-aa13-c629b4ed6a0a"
      },
      "outputs": [],
      "source": [
        "plt.imshow(data[30000].reshape(28,28), cmap='gray')\n",
        "plt.title(str(labels[30000]));"
      ]
    },
    {
      "cell_type": "code",
      "execution_count": 419,
      "metadata": {
        "id": "s6OvkQWtXyVx"
      },
      "outputs": [],
      "source": [
        "classes_peso = {}\n",
        "for i in range(0, len(classes_total)):\n",
        "  #print(i)\n",
        "  classes_peso[i] = classes_total.max() / classes_total[i]"
      ]
    },
    {
      "cell_type": "code",
      "execution_count": null,
      "metadata": {
        "colab": {
          "base_uri": "https://localhost:8080/"
        },
        "id": "fgEtB0pwYH6A",
        "outputId": "a2eabae5-aae7-492f-cf58-a60c3107c48c"
      },
      "outputs": [],
      "source": [
        "classes_peso"
      ]
    },
    {
      "cell_type": "code",
      "execution_count": 421,
      "metadata": {
        "id": "AmxfOScxYZa6"
      },
      "outputs": [],
      "source": [
        "X_train, X_test, y_train, y_test = train_test_split(data, labels, test_size=0.2, stratify=labels, random_state = 1)"
      ]
    },
    {
      "cell_type": "code",
      "execution_count": null,
      "metadata": {
        "colab": {
          "base_uri": "https://localhost:8080/"
        },
        "id": "OTYfrbANY52N",
        "outputId": "dfb1bd3f-e59c-49f2-c358-0bf5b5594ab6"
      },
      "outputs": [],
      "source": [
        "X_train.shape, X_test.shape"
      ]
    },
    {
      "cell_type": "code",
      "execution_count": null,
      "metadata": {
        "colab": {
          "base_uri": "https://localhost:8080/"
        },
        "id": "zN-UC3XqZEwP",
        "outputId": "e805a4e7-5bab-4729-ddcb-6691d4ef964e"
      },
      "outputs": [],
      "source": [
        "y_train.shape, y_test.shape"
      ]
    },
    {
      "cell_type": "code",
      "execution_count": 424,
      "metadata": {
        "id": "E5rvR8mHZRlS"
      },
      "outputs": [],
      "source": [
        "from tensorflow.keras.preprocessing.image import ImageDataGenerator"
      ]
    },
    {
      "cell_type": "code",
      "execution_count": 425,
      "metadata": {
        "id": "n_RGdbcLZfsC"
      },
      "outputs": [],
      "source": [
        "augmentation = ImageDataGenerator(rotation_range=10, zoom_range=0.05, width_shift_range=0.1,\n",
        "                                  height_shift_range=0.1, horizontal_flip = False)"
      ]
    },
    {
      "cell_type": "markdown",
      "metadata": {
        "id": "jTL6wrhcs2if"
      },
      "source": [
        "# Criação da estrutura da rede neural\n",
        "\n",
        "- Padding: https://www.pico.net/kb/what-is-the-difference-between-same-and-valid-padding-in-tf-nn-max-pool-of-tensorflow"
      ]
    },
    {
      "cell_type": "code",
      "execution_count": 426,
      "metadata": {
        "id": "faTU3hY7crO8"
      },
      "outputs": [],
      "source": [
        "from tensorflow.keras.models import Sequential\n",
        "from tensorflow.keras.layers import Conv2D, MaxPool2D, Flatten, Dense\n",
        "from tensorflow.keras.callbacks import ModelCheckpoint"
      ]
    },
    {
      "cell_type": "code",
      "execution_count": null,
      "metadata": {
        "id": "JSaxHXVqdi9l"
      },
      "outputs": [],
      "source": [
        "rede_neural = Sequential()\n",
        "\n",
        "rede_neural.add(Conv2D(filters=32, kernel_size=(3,3), activation='relu', input_shape=(28,28,1)))\n",
        "rede_neural.add(MaxPool2D(pool_size=(2,2)))\n",
        "\n",
        "rede_neural.add(Conv2D(filters=64, kernel_size=(3,3), activation='relu', padding='same'))\n",
        "rede_neural.add(MaxPool2D(pool_size=(2,2)))\n",
        "\n",
        "rede_neural.add(Conv2D(filters=128, kernel_size=(3,3), activation='relu', padding='valid'))\n",
        "rede_neural.add(MaxPool2D(pool_size=(2,2)))\n",
        "\n",
        "rede_neural.add(Flatten())\n",
        "\n",
        "rede_neural.add(Dense(64, activation='relu'))\n",
        "rede_neural.add(Dense(128, activation='relu'))\n",
        "\n",
        "rede_neural.add(Dense(36, activation='softmax'))\n",
        "\n",
        "rede_neural.compile(loss = 'categorical_crossentropy', optimizer = 'adam', metrics = ['accuracy'])"
      ]
    },
    {
      "cell_type": "code",
      "execution_count": null,
      "metadata": {
        "colab": {
          "base_uri": "https://localhost:8080/"
        },
        "id": "VYfyHatKfj1R",
        "outputId": "c3d15f89-3328-43dd-e8ab-4eb2adb625fe"
      },
      "outputs": [],
      "source": [
        "2 * 2 * 128"
      ]
    },
    {
      "cell_type": "code",
      "execution_count": null,
      "metadata": {
        "colab": {
          "base_uri": "https://localhost:8080/"
        },
        "id": "N2CMHn_2fbeB",
        "outputId": "64bc94f1-3343-462e-93ca-343ffb8475db"
      },
      "outputs": [],
      "source": [
        "rede_neural.summary()"
      ]
    },
    {
      "cell_type": "code",
      "execution_count": 430,
      "metadata": {
        "id": "YSMHJE62fuAA"
      },
      "outputs": [],
      "source": [
        "nomes_labels = '0123456789'\n",
        "nomes_labels += 'ABCDEFGHIJKLMNOPQRSTUVWXYZ'\n",
        "nomes_labels = [l for l in nomes_labels]"
      ]
    },
    {
      "cell_type": "code",
      "execution_count": null,
      "metadata": {
        "colab": {
          "base_uri": "https://localhost:8080/"
        },
        "id": "ZHLBX2_wgD3S",
        "outputId": "05294a34-130b-4647-827c-14d74bfbeb27"
      },
      "outputs": [],
      "source": [
        "print(nomes_labels)"
      ]
    },
    {
      "cell_type": "markdown",
      "metadata": {
        "id": "eqi1W2TFCxrl"
      },
      "source": [
        "# Treinamento da rede neural"
      ]
    },
    {
      "cell_type": "code",
      "execution_count": 432,
      "metadata": {
        "id": "m14RGrvVhlY1"
      },
      "outputs": [],
      "source": [
        "arquivo_modelo = 'manuscrito.model'\n",
        "epochs = 20\n",
        "batch_size = 128"
      ]
    },
    {
      "cell_type": "code",
      "execution_count": 433,
      "metadata": {
        "id": "OSRbWp7Xh_B8"
      },
      "outputs": [],
      "source": [
        "checkpointer = ModelCheckpoint(arquivo_modelo + '.keras', monitor='val_loss', verbose=1, save_best_only=True) "
      ]
    },
    {
      "cell_type": "code",
      "execution_count": null,
      "metadata": {
        "colab": {
          "base_uri": "https://localhost:8080/"
        },
        "id": "ySh4r9p1itJ8",
        "outputId": "1c51fab0-e9a7-4896-a747-74b36d8a473f"
      },
      "outputs": [],
      "source": [
        "len(X_train) // batch_size"
      ]
    },
    {
      "cell_type": "code",
      "execution_count": null,
      "metadata": {},
      "outputs": [],
      "source": [
        "# Perguntar ao usuário\n",
        "opcao = input(\"Deseja treinar o modelo do zero ou carregar um modelo pré-treinado? (treinar/carregar): \").lower()\n",
        "\n",
        "if opcao == 'treinar':\n",
        "    # Treinar o modelo do zero\n",
        "    history = rede_neural.fit(\n",
        "        augmentation.flow(X_train, y_train, batch_size=batch_size),\n",
        "        validation_data=(X_test, y_test),\n",
        "        steps_per_epoch=len(X_train) // batch_size,\n",
        "        epochs=epochs,\n",
        "        class_weight=classes_peso,\n",
        "        verbose=1,\n",
        "        callbacks=[checkpointer]\n",
        "    )\n",
        "    print(\"Modelo treinado com sucesso!\")\n",
        "\n",
        "elif opcao == 'carregar':\n",
        "    if IN_COLAB:\n",
        "        # Instalar gdown no Colab se necessário\n",
        "        %pip install gdown\n",
        "        import gdown\n",
        "        # Baixar o arquivo do modelo\n",
        "        print(\"Baixando o modelo pré-treinado...\")\n",
        "        gdown.download('https://drive.google.com/uc?id=1-8PIRKmba7_p1DGDIvzWCcPZiT-4g6C-', 'rede_neural.keras', quiet=False)\n",
        "    else:\n",
        "      !wget --no-check-certificate 'https://drive.google.com/uc?export=download&id=1-8PIRKmba7_p1DGDIvzWCcPZiT-4g6C-' -O rede_neural.keras   \n",
        "    # Carregar o modelo pré-treinado\n",
        "    rede_neural = load_model('rede_neural.keras')\n",
        "    print(\"Modelo pré-treinado carregado com sucesso!\")\n",
        "\n",
        "else:\n",
        "    print(\"Opção inválida. Por favor, escolha 'treinar' ou 'carregar'.\")\n"
      ]
    },
    {
      "cell_type": "markdown",
      "metadata": {
        "id": "YFy8-KqfcbTf"
      },
      "source": [
        "# Avaliação da rede neural"
      ]
    },
    {
      "cell_type": "code",
      "execution_count": null,
      "metadata": {
        "colab": {
          "base_uri": "https://localhost:8080/"
        },
        "id": "16f2zYzixRsD",
        "outputId": "476a4203-2d22-4651-a210-70a87ed59a82"
      },
      "outputs": [],
      "source": [
        "X_test.shape"
      ]
    },
    {
      "cell_type": "code",
      "execution_count": null,
      "metadata": {
        "id": "QlIpClvoxLjF"
      },
      "outputs": [],
      "source": [
        "previsoes = rede_neural.predict(X_test, batch_size=batch_size)"
      ]
    },
    {
      "cell_type": "code",
      "execution_count": null,
      "metadata": {
        "colab": {
          "base_uri": "https://localhost:8080/"
        },
        "id": "_7JgF8TVxiSc",
        "outputId": "34c9fd0d-cc52-46e1-8c9c-80cbe69dbfb5"
      },
      "outputs": [],
      "source": [
        "previsoes"
      ]
    },
    {
      "cell_type": "code",
      "execution_count": null,
      "metadata": {
        "colab": {
          "base_uri": "https://localhost:8080/"
        },
        "id": "L00uAzHMxmFR",
        "outputId": "26aed3b2-6eca-4d82-ea4d-1e1b6f29b8a3"
      },
      "outputs": [],
      "source": [
        "previsoes[0]"
      ]
    },
    {
      "cell_type": "code",
      "execution_count": null,
      "metadata": {
        "colab": {
          "base_uri": "https://localhost:8080/"
        },
        "id": "4mWVvXqoxp8p",
        "outputId": "53309706-2f8b-44ff-e225-c77c27915c64"
      },
      "outputs": [],
      "source": [
        "len(previsoes[0])"
      ]
    },
    {
      "cell_type": "code",
      "execution_count": null,
      "metadata": {
        "colab": {
          "base_uri": "https://localhost:8080/"
        },
        "id": "bY-Gp9L1xun5",
        "outputId": "86a3c918-021b-448e-e8de-8160a901bf8b"
      },
      "outputs": [],
      "source": [
        "np.argmax(previsoes[0])"
      ]
    },
    {
      "cell_type": "code",
      "execution_count": null,
      "metadata": {
        "colab": {
          "base_uri": "https://localhost:8080/",
          "height": 37
        },
        "id": "nzMisw7Tx4qk",
        "outputId": "e42d8238-dcfa-454c-d486-d59e77755255"
      },
      "outputs": [],
      "source": [
        "nomes_labels[24]"
      ]
    },
    {
      "cell_type": "code",
      "execution_count": null,
      "metadata": {
        "colab": {
          "base_uri": "https://localhost:8080/"
        },
        "id": "Q9aUt1gAyF-l",
        "outputId": "39819916-8b13-478e-81a1-ea037898c7c6"
      },
      "outputs": [],
      "source": [
        "y_test[0]"
      ]
    },
    {
      "cell_type": "code",
      "execution_count": null,
      "metadata": {
        "colab": {
          "base_uri": "https://localhost:8080/"
        },
        "id": "EcRO3H6NyJ_2",
        "outputId": "1bc184b6-5002-4a95-f58a-a04ce4ec1916"
      },
      "outputs": [],
      "source": [
        "np.argmax(y_test[0])"
      ]
    },
    {
      "cell_type": "code",
      "execution_count": null,
      "metadata": {
        "colab": {
          "base_uri": "https://localhost:8080/",
          "height": 37
        },
        "id": "4p6u8yZbyOm3",
        "outputId": "ee19d990-47ac-46d1-d658-68d6e5018b72"
      },
      "outputs": [],
      "source": [
        "nomes_labels[np.argmax(y_test[0])]"
      ]
    },
    {
      "cell_type": "code",
      "execution_count": null,
      "metadata": {
        "colab": {
          "base_uri": "https://localhost:8080/"
        },
        "id": "BWhXKAgsyaqG",
        "outputId": "7b3cd1dc-7d9b-42f2-ad2d-e28640599861"
      },
      "outputs": [],
      "source": [
        "rede_neural.evaluate(X_test, y_test)"
      ]
    },
    {
      "cell_type": "code",
      "execution_count": null,
      "metadata": {
        "colab": {
          "base_uri": "https://localhost:8080/"
        },
        "id": "0GxSMBBvyzXS",
        "outputId": "62001a89-be1c-4da9-80e1-1c6538b0dd04"
      },
      "outputs": [],
      "source": [
        "print(classification_report(y_test.argmax(axis=1), previsoes.argmax(axis=1), target_names=nomes_labels))"
      ]
    },
    {
      "cell_type": "code",
      "execution_count": null,
      "metadata": {
        "colab": {
          "base_uri": "https://localhost:8080/"
        },
        "id": "QSq4CS6Lzh6n",
        "outputId": "4879fe1b-4258-47b5-deaf-40d3b5eb887e"
      },
      "outputs": [],
      "source": [
        "history.history.keys()"
      ]
    },
    {
      "cell_type": "code",
      "execution_count": null,
      "metadata": {
        "colab": {
          "base_uri": "https://localhost:8080/",
          "height": 265
        },
        "id": "KArSffr-zrpg",
        "outputId": "40151812-df23-4bda-e3c9-c246296d58d9"
      },
      "outputs": [],
      "source": [
        "plt.plot(history.history['val_loss']);"
      ]
    },
    {
      "cell_type": "code",
      "execution_count": null,
      "metadata": {
        "colab": {
          "base_uri": "https://localhost:8080/",
          "height": 265
        },
        "id": "EGobrF89z0T5",
        "outputId": "28990489-da6f-4322-e78c-4c5527500332"
      },
      "outputs": [],
      "source": [
        "plt.plot(history.history['val_accuracy']);"
      ]
    },
    {
      "cell_type": "markdown",
      "metadata": {
        "id": "1Eyrve-hXEQh"
      },
      "source": [
        "# Salvando o modelo"
      ]
    },
    {
      "cell_type": "code",
      "execution_count": 451,
      "metadata": {
        "id": "0c4rfFYA3d1q"
      },
      "outputs": [],
      "source": [
        "rede_neural.save('rede_neural.keras')    \n",
        "if IN_COLAB:\n",
        "    from google.colab import drive\n",
        "    drive.mount('/content/drive')\n",
        "    !mkdir -p /content/drive/MyDrive/sistemas_embarcados\n",
        "    !cp rede_neural.keras /content/drive/MyDrive/sistemas_embarcados/rede_neural.keras"
      ]
    },
    {
      "cell_type": "markdown",
      "metadata": {
        "id": "7W1W2e_AV2Vb"
      },
      "source": [
        "# Teste com imagens"
      ]
    },
    {
      "cell_type": "code",
      "execution_count": 452,
      "metadata": {
        "id": "tkwlBCmt470d"
      },
      "outputs": [],
      "source": [
        "from tensorflow.keras.models import load_model"
      ]
    },
    {
      "cell_type": "code",
      "execution_count": 453,
      "metadata": {
        "id": "6eNTyoHc5E81"
      },
      "outputs": [],
      "source": [
        "rede_neural_carregada = load_model('rede_neural.keras')"
      ]
    },
    {
      "cell_type": "code",
      "execution_count": null,
      "metadata": {
        "colab": {
          "base_uri": "https://localhost:8080/"
        },
        "id": "u_uyrEmW5Mzh",
        "outputId": "d436e347-a924-45b1-dd51-27b3dbb695e7"
      },
      "outputs": [],
      "source": [
        "rede_neural_carregada"
      ]
    },
    {
      "cell_type": "code",
      "execution_count": null,
      "metadata": {
        "colab": {
          "base_uri": "https://localhost:8080/"
        },
        "id": "K6u6JCgj5QXX",
        "outputId": "74e56301-a019-4f2a-abe3-9886ad0f2412"
      },
      "outputs": [],
      "source": [
        "rede_neural_carregada.summary()"
      ]
    },
    {
      "cell_type": "code",
      "execution_count": null,
      "metadata": {
        "colab": {
          "base_uri": "https://localhost:8080/",
          "height": 47
        },
        "id": "AfKyaMz_5nXW",
        "outputId": "81a6b2d3-f961-40e0-bd2a-5acf2d9bde70"
      },
      "outputs": [],
      "source": [
        "img = cv2.imread('./Imagens/letra-m.jpg')\n",
        "imshow(img)"
      ]
    },
    {
      "cell_type": "code",
      "execution_count": null,
      "metadata": {
        "colab": {
          "base_uri": "https://localhost:8080/"
        },
        "id": "W9qK84tw53v5",
        "outputId": "0383e666-a571-42f7-a54c-ba8907410c32"
      },
      "outputs": [],
      "source": [
        "img.shape"
      ]
    },
    {
      "cell_type": "code",
      "execution_count": null,
      "metadata": {
        "colab": {
          "base_uri": "https://localhost:8080/"
        },
        "id": "30Xpad0I6CnP",
        "outputId": "30fa45f9-38ca-451d-c2d1-036075996ab8"
      },
      "outputs": [],
      "source": [
        "gray = cv2.cvtColor(img, cv2.COLOR_BGR2GRAY)\n",
        "gray.shape"
      ]
    },
    {
      "cell_type": "code",
      "execution_count": null,
      "metadata": {
        "colab": {
          "base_uri": "https://localhost:8080/",
          "height": 47
        },
        "id": "jMLxDJbX6Jgn",
        "outputId": "33b87ae9-8f86-4453-ce9f-0e5596d15aa4"
      },
      "outputs": [],
      "source": [
        "imshow(gray)"
      ]
    },
    {
      "cell_type": "code",
      "execution_count": null,
      "metadata": {
        "colab": {
          "base_uri": "https://localhost:8080/",
          "height": 47
        },
        "id": "r1tlR0wM6Op5",
        "outputId": "6f564aca-2ce7-40c9-e13c-2a48f46fab26"
      },
      "outputs": [],
      "source": [
        "val, thresh = cv2.threshold(gray, 0, 255, cv2.THRESH_BINARY_INV | cv2.THRESH_OTSU)\n",
        "imshow(thresh)"
      ]
    },
    {
      "cell_type": "code",
      "execution_count": null,
      "metadata": {
        "colab": {
          "base_uri": "https://localhost:8080/"
        },
        "id": "vW4LoCvF7aDW",
        "outputId": "ab212a29-6653-4972-b3f4-1f35fe4b8a95"
      },
      "outputs": [],
      "source": [
        "val"
      ]
    },
    {
      "cell_type": "code",
      "execution_count": null,
      "metadata": {
        "colab": {
          "base_uri": "https://localhost:8080/"
        },
        "id": "O_HhxGRi7nZ8",
        "outputId": "76194fb7-20aa-4e9e-f8e9-6728010588bd"
      },
      "outputs": [],
      "source": [
        "thresh.shape"
      ]
    },
    {
      "cell_type": "code",
      "execution_count": null,
      "metadata": {
        "colab": {
          "base_uri": "https://localhost:8080/",
          "height": 45
        },
        "id": "QQqH13Sx7t_H",
        "outputId": "61acb1b1-d507-42b8-ccd9-370945c6859c"
      },
      "outputs": [],
      "source": [
        "img = cv2.resize(thresh, (28, 28))\n",
        "imshow(img)"
      ]
    },
    {
      "cell_type": "code",
      "execution_count": null,
      "metadata": {
        "colab": {
          "base_uri": "https://localhost:8080/"
        },
        "id": "IINhlKKg70zP",
        "outputId": "e9934b2c-35e5-4324-9dbd-bb27d0a34784"
      },
      "outputs": [],
      "source": [
        "img.shape"
      ]
    },
    {
      "cell_type": "code",
      "execution_count": null,
      "metadata": {
        "colab": {
          "base_uri": "https://localhost:8080/"
        },
        "id": "TwGldNWb739H",
        "outputId": "b0926a79-eda7-43c4-8602-25d2b7207777"
      },
      "outputs": [],
      "source": [
        "img = img.astype('float32') / 255.0\n",
        "img = np.expand_dims(img, axis = -1)\n",
        "img.shape"
      ]
    },
    {
      "cell_type": "code",
      "execution_count": null,
      "metadata": {
        "colab": {
          "base_uri": "https://localhost:8080/"
        },
        "id": "2pAS5zP98TIW",
        "outputId": "c49f535c-1749-484e-fc4d-55bac9d27d73"
      },
      "outputs": [],
      "source": [
        "img = np.reshape(img, (1,28,28,1))\n",
        "img.shape"
      ]
    },
    {
      "cell_type": "code",
      "execution_count": null,
      "metadata": {
        "id": "QTnXQPbB8bst"
      },
      "outputs": [],
      "source": [
        "previsao = rede_neural_carregada.predict(img)"
      ]
    },
    {
      "cell_type": "code",
      "execution_count": null,
      "metadata": {
        "colab": {
          "base_uri": "https://localhost:8080/"
        },
        "id": "9lAeymYr8fZX",
        "outputId": "850a0cc7-375f-43be-de96-e86904909f12"
      },
      "outputs": [],
      "source": [
        "previsao"
      ]
    },
    {
      "cell_type": "code",
      "execution_count": null,
      "metadata": {
        "colab": {
          "base_uri": "https://localhost:8080/"
        },
        "id": "4QMn6lY88iBy",
        "outputId": "65374509-8f62-41c2-ea13-0e9071ba1c4f"
      },
      "outputs": [],
      "source": [
        "np.argmax(previsao)"
      ]
    },
    {
      "cell_type": "code",
      "execution_count": null,
      "metadata": {
        "colab": {
          "base_uri": "https://localhost:8080/",
          "height": 37
        },
        "id": "Y-fBaLSj8oAa",
        "outputId": "a045eb15-f4cc-4176-a59b-1f52e13137c3"
      },
      "outputs": [],
      "source": [
        "nomes_labels[22]"
      ]
    }
  ],
  "metadata": {
    "accelerator": "GPU",
    "colab": {
      "provenance": []
    },
    "kernelspec": {
      "display_name": "Python 3 (ipykernel)",
      "language": "python",
      "name": "python3"
    },
    "language_info": {
      "codemirror_mode": {
        "name": "ipython",
        "version": 3
      },
      "file_extension": ".py",
      "mimetype": "text/x-python",
      "name": "python",
      "nbconvert_exporter": "python",
      "pygments_lexer": "ipython3",
      "version": "3.11.0"
    }
  },
  "nbformat": 4,
  "nbformat_minor": 0
}
