{
  "cells": [
    {
      "cell_type": "markdown",
      "metadata": {
        "id": "rPgMt6SzFYdR"
      },
      "source": [
        "# Reconhecimento de texto com EasyOCR\n",
        "\n",
        "- Mantida por por [Jaided AI](https://jaided.ai/), uma empresa especializada em serviços de OCR\n",
        "- Repositório oficial: https://github.com/JaidedAI/EasyOCR"
      ]
    },
    {
      "cell_type": "code",
      "execution_count": null,
      "metadata": {},
      "outputs": [],
      "source": [
        "# Baixar imagens para o laboratório.\n",
        "!wget https://github.com/fabiobento/ocr-sis-emb-2024-2/raw/refs/heads/main/imagens.zip\n",
        "!unzip -n -q imagens.zip\n",
        "\n",
        "# Baixar fontes para o laboratório\n",
        "!wget https://github.com/fabiobento/ocr-sis-emb-2024-2/raw/refs/heads/main/fontes.zip\n",
        "!unzip -n -q fontes.zip"
      ]
    },
    {
      "cell_type": "markdown",
      "metadata": {
        "id": "EGVf87OABCt-"
      },
      "source": [
        "# Instalação"
      ]
    },
    {
      "cell_type": "code",
      "execution_count": null,
      "metadata": {
        "colab": {
          "base_uri": "https://localhost:8080/"
        },
        "id": "2Toa2kTNBLN0",
        "outputId": "02ae6c6a-0cc3-45f3-c012-6f016e2441d8"
      },
      "outputs": [],
      "source": [
        "!pip install easyocr"
      ]
    },
    {
      "cell_type": "code",
      "execution_count": null,
      "metadata": {
        "colab": {
          "base_uri": "https://localhost:8080/"
        },
        "id": "Dd_88_t3ryCC",
        "outputId": "45b8ca0a-9ab6-4c7b-e434-68d6d1f3859c"
      },
      "outputs": [],
      "source": [
        "# Código necessário após atualização do opencv-python-headless no Colab para a versão 4.5.5.62, que não suporta o \"_registerMatType\".\n",
        "!pip uninstall opencv-python-headless\n",
        "!pip install opencv-python-headless==4.1.2.30"
      ]
    },
    {
      "cell_type": "code",
      "execution_count": null,
      "metadata": {
        "id": "VPzql-_8BeG2"
      },
      "outputs": [],
      "source": [
        "from easyocr import Reader\n",
        "import cv2\n",
        "from google.colab.patches import imshow\n",
        "from PIL import ImageFont, ImageDraw, Image\n",
        "import numpy as np"
      ]
    },
    {
      "cell_type": "markdown",
      "metadata": {
        "id": "WwkOtLH8OhE6"
      },
      "source": [
        "# Configurações"
      ]
    },
    {
      "cell_type": "code",
      "execution_count": null,
      "metadata": {
        "colab": {
          "base_uri": "https://localhost:8080/"
        },
        "id": "iw-EIvhTBvlr",
        "outputId": "0d5c44a1-9dcc-472c-c1f5-056feda42aa3"
      },
      "outputs": [],
      "source": [
        "lista_idiomas = 'en,pt'\n",
        "idiomas = lista_idiomas.split(',')\n",
        "print(idiomas)"
      ]
    },
    {
      "cell_type": "code",
      "execution_count": null,
      "metadata": {
        "id": "5gLsNV_8CYA3"
      },
      "outputs": [],
      "source": [
        "gpu = True #@param {type: 'boolean'}"
      ]
    },
    {
      "cell_type": "code",
      "execution_count": null,
      "metadata": {
        "colab": {
          "base_uri": "https://localhost:8080/",
          "height": 496
        },
        "id": "uEA4yshFCuqr",
        "outputId": "7ff20719-f671-40b1-ce4b-6e3c09b1b1d0"
      },
      "outputs": [],
      "source": [
        "img = cv2.imread('caneca.jpg')\n",
        "imshow(img)"
      ]
    },
    {
      "cell_type": "code",
      "execution_count": null,
      "metadata": {
        "id": "krR0iYGdC20k"
      },
      "outputs": [],
      "source": [
        "original = img.copy()"
      ]
    },
    {
      "cell_type": "markdown",
      "metadata": {
        "id": "SqnDhUsDAhY3"
      },
      "source": [
        "# Reconhecimento (OCR)"
      ]
    },
    {
      "cell_type": "code",
      "execution_count": null,
      "metadata": {
        "colab": {
          "base_uri": "https://localhost:8080/"
        },
        "id": "-38UD10VDpJc",
        "outputId": "934c4960-298b-4932-d7cb-fb7d4c88c855"
      },
      "outputs": [],
      "source": [
        "reader = Reader(idiomas, gpu)\n",
        "resultados = reader.readtext(img)"
      ]
    },
    {
      "cell_type": "code",
      "execution_count": null,
      "metadata": {
        "colab": {
          "base_uri": "https://localhost:8080/"
        },
        "id": "-2qHBRwbESRR",
        "outputId": "060e876b-c6dd-47af-cdbe-769b3b3579c9"
      },
      "outputs": [],
      "source": [
        "resultados"
      ]
    },
    {
      "cell_type": "code",
      "execution_count": null,
      "metadata": {
        "colab": {
          "base_uri": "https://localhost:8080/"
        },
        "id": "Bpn8KHcYJf5O",
        "outputId": "602ee110-c5a9-4dec-dd0e-f40825fa5fb9"
      },
      "outputs": [],
      "source": [
        "resultados[0][0]"
      ]
    },
    {
      "cell_type": "markdown",
      "metadata": {
        "id": "9X9imCHtQhcN"
      },
      "source": [
        "# Escrevendo os resultados na imagem"
      ]
    },
    {
      "cell_type": "markdown",
      "metadata": {
        "id": "GCJlr2B88vzR"
      },
      "source": [
        "## Texto"
      ]
    },
    {
      "cell_type": "code",
      "execution_count": null,
      "metadata": {
        "id": "Xr_Vhtt9HvJ2"
      },
      "outputs": [],
      "source": [
        "fonte = './Fontes/calibri.ttf'"
      ]
    },
    {
      "cell_type": "code",
      "execution_count": null,
      "metadata": {
        "id": "SsjiR86mH6dU"
      },
      "outputs": [],
      "source": [
        "def escreve_texto(texto, x, y, img, fonte, cor=(50,50,255), tamanho = 22):\n",
        "  fonte = ImageFont.truetype(fonte, tamanho)\n",
        "  img_pil = Image.fromarray(img)\n",
        "  draw = ImageDraw.Draw(img_pil)\n",
        "  draw.text((x, y - tamanho), texto, font = fonte, fill = cor)\n",
        "  img = np.array(img_pil)\n",
        "  return img"
      ]
    },
    {
      "cell_type": "markdown",
      "metadata": {
        "id": "Mr7szefZ4506"
      },
      "source": [
        "## Caixa delimitadora\n",
        "\n",
        "Cantos da bounding box:\n",
        "* **te** = topo esquerdo (superior esquerdo)\n",
        "* **td** = topo direito (superior direito)\n",
        "* **bd** = baixo direito (inferior direito)\n",
        "* **be** = baixo esquerdo (inferior esquerdo)"
      ]
    },
    {
      "cell_type": "code",
      "execution_count": null,
      "metadata": {
        "id": "RchR7z2SI3RQ"
      },
      "outputs": [],
      "source": [
        "def coordenada_caixa(caixa):\n",
        "  (te, td, bd, be) = caixa\n",
        "  te = (int(te[0]), int(te[1]))\n",
        "  td = (int(td[0]), int(td[1]))\n",
        "  bd = (int(bd[0]), int(bd[1]))\n",
        "  be = (int(be[0]), int(be[1]))\n",
        "  return te, td, bd, be"
      ]
    },
    {
      "cell_type": "code",
      "execution_count": null,
      "metadata": {
        "colab": {
          "base_uri": "https://localhost:8080/"
        },
        "id": "mmp2JiknJcUX",
        "outputId": "7afa7241-59eb-473a-939e-4098a831b3f5"
      },
      "outputs": [],
      "source": [
        "coordenada_caixa(resultados[0][0])"
      ]
    },
    {
      "cell_type": "code",
      "execution_count": null,
      "metadata": {
        "id": "WNeHKw-rJrYX"
      },
      "outputs": [],
      "source": [
        "def desenha_caixa(img, te, bd, cor_caixa=(200,255,0), espessura=2):\n",
        "  cv2.rectangle(img, te, bd, cor_caixa, espessura)\n",
        "  return img"
      ]
    },
    {
      "cell_type": "code",
      "execution_count": null,
      "metadata": {
        "colab": {
          "base_uri": "https://localhost:8080/",
          "height": 497
        },
        "id": "Uc6V_sDqKHki",
        "outputId": "7f37b898-76ce-4b5c-85ca-337ab64292ee"
      },
      "outputs": [],
      "source": [
        "img = original.copy()\n",
        "for (caixa, texto, probabilidade) in resultados:\n",
        "  #print(caixa, texto, probabilidade)\n",
        "  te, td, bd, be = coordenada_caixa(caixa)\n",
        "  img = desenha_caixa(img, te, bd)\n",
        "  img = escreve_texto(texto, te[0], te[1], img, fonte)\n",
        "imshow(img)"
      ]
    },
    {
      "cell_type": "code",
      "execution_count": null,
      "metadata": {
        "colab": {
          "base_uri": "https://localhost:8080/",
          "height": 755
        },
        "id": "7fBu8OBcLP3N",
        "outputId": "006c9a63-cc64-4df7-f07d-a56cf0cde316"
      },
      "outputs": [],
      "source": [
        "img = cv2.imread('./Imagens/google-cloud.jpg')\n",
        "reader = Reader(idiomas, gpu)\n",
        "resultados = reader.readtext(img)\n",
        "\n",
        "for (caixa, texto, probabilidade) in resultados:\n",
        "  te, td, bd, be = coordenada_caixa(caixa)\n",
        "  img = desenha_caixa(img, te, bd)\n",
        "  img = escreve_texto(texto, te[0], te[1], img, fonte)\n",
        "imshow(img)"
      ]
    },
    {
      "cell_type": "markdown",
      "metadata": {
        "id": "_nQr11R2WyF0"
      },
      "source": [
        "# Outros idiomas\n",
        "\n",
        "- Outros idiomas [veja aqui](https://www.jaided.ai/easyocr/)"
      ]
    },
    {
      "cell_type": "code",
      "execution_count": null,
      "metadata": {
        "colab": {
          "base_uri": "https://localhost:8080/"
        },
        "id": "FiblsBEpMtvc",
        "outputId": "4d06b137-c70f-4835-d830-3502ddb09380"
      },
      "outputs": [],
      "source": [
        "lista_idiomas = 'en,fr'\n",
        "idiomas = lista_idiomas.split(',')\n",
        "idiomas"
      ]
    },
    {
      "cell_type": "code",
      "execution_count": null,
      "metadata": {
        "colab": {
          "base_uri": "https://localhost:8080/"
        },
        "id": "nMxi3k1JM6pp",
        "outputId": "f32ab3e2-9c6c-4a66-dc5e-bda2ee72449b"
      },
      "outputs": [],
      "source": [
        "img = cv2.imread('./Imagens/frances.jpg')\n",
        "reader = Reader(idiomas, gpu)\n",
        "resultados = reader.readtext(img)\n",
        "resultados"
      ]
    },
    {
      "cell_type": "code",
      "execution_count": null,
      "metadata": {
        "colab": {
          "base_uri": "https://localhost:8080/",
          "height": 772
        },
        "id": "PpmgJOMcNSxO",
        "outputId": "5ebd067f-c665-436d-b58d-95cf5661008e"
      },
      "outputs": [],
      "source": [
        "for (caixa, texto, probabilidade) in resultados:\n",
        "  te, td, bd, be = coordenada_caixa(caixa)\n",
        "  img = desenha_caixa(img, te, bd)\n",
        "  img = escreve_texto(texto, te[0], te[1], img, fonte)\n",
        "imshow(img)"
      ]
    },
    {
      "cell_type": "code",
      "execution_count": null,
      "metadata": {
        "colab": {
          "base_uri": "https://localhost:8080/"
        },
        "id": "9A0QDQcfNrpF",
        "outputId": "bcea8ae7-ab01-4b27-85b8-cd55a3efa696"
      },
      "outputs": [],
      "source": [
        "lista_idiomas = 'en,ch_sim'\n",
        "idiomas = lista_idiomas.split(',')\n",
        "idiomas"
      ]
    },
    {
      "cell_type": "code",
      "execution_count": null,
      "metadata": {
        "id": "XWHQDhh0N1vk"
      },
      "outputs": [],
      "source": [
        "fonte = '/content/simsun.ttc'"
      ]
    },
    {
      "cell_type": "code",
      "execution_count": null,
      "metadata": {
        "colab": {
          "base_uri": "https://localhost:8080/"
        },
        "id": "w7Rr1MibOV4z",
        "outputId": "009aeba2-0972-4c62-b43f-13df262812fc"
      },
      "outputs": [],
      "source": [
        "img = cv2.imread('./Imagens/chines.jpg')\n",
        "reader = Reader(idiomas, gpu)\n",
        "resultados = reader.readtext(img)\n",
        "resultados"
      ]
    },
    {
      "cell_type": "code",
      "execution_count": null,
      "metadata": {
        "colab": {
          "base_uri": "https://localhost:8080/",
          "height": 356
        },
        "id": "1-s-NN5RO8P3",
        "outputId": "18b26f86-79dd-4455-bd47-a9f288356936"
      },
      "outputs": [],
      "source": [
        "for (caixa, texto, probabilidade) in resultados:\n",
        "  te, td, bd, be = coordenada_caixa(caixa)\n",
        "  img = desenha_caixa(img, te, bd)\n",
        "  img = escreve_texto(texto, te[0], te[1], img, fonte)\n",
        "imshow(img)"
      ]
    },
    {
      "cell_type": "markdown",
      "metadata": {
        "id": "ooZ8k6xxo_pq"
      },
      "source": [
        "# Texto com fundo"
      ]
    },
    {
      "cell_type": "code",
      "execution_count": null,
      "metadata": {
        "id": "_4s0QHB9QFdU"
      },
      "outputs": [],
      "source": [
        "def fundo_texto(texto, x, y, img, fonte, tamanho=32, cor_fundo=(200,255,0)):\n",
        "  fundo = np.full((img.shape), (0,0,0), dtype=np.uint8)\n",
        "  texto_fundo = escreve_texto(texto, x, y, fundo, fonte, tamanho=tamanho)\n",
        "  texto_fundo = cv2.dilate(texto_fundo,(np.ones((3,5),np.uint8)))\n",
        "  fx,fy,fw,fh = cv2.boundingRect(texto_fundo[:,:,2])\n",
        "  cv2.rectangle(img, (fx, fy), (fx + fw, fy + fh), cor_fundo, -1)\n",
        "  return img"
      ]
    },
    {
      "cell_type": "code",
      "execution_count": null,
      "metadata": {
        "id": "i8qrZJopRiBL"
      },
      "outputs": [],
      "source": [
        "fonte = './Fontes/calibri.ttf'\n",
        "lista_idiomas = 'en,pt'\n",
        "idiomas = lista_idiomas.split(',')"
      ]
    },
    {
      "cell_type": "code",
      "execution_count": null,
      "metadata": {
        "colab": {
          "base_uri": "https://localhost:8080/"
        },
        "id": "867L8TPmRql3",
        "outputId": "5e387dda-8175-4638-c681-33d1f2ffc1a1"
      },
      "outputs": [],
      "source": [
        "img = cv2.imread('./Imagens/placa-infos.jpg')\n",
        "reader = Reader(idiomas, gpu)\n",
        "resultados = reader.readtext(img)\n",
        "resultados"
      ]
    },
    {
      "cell_type": "code",
      "execution_count": null,
      "metadata": {
        "id": "09vgFUG4R7-h"
      },
      "outputs": [],
      "source": [
        "cor_fonte = (0,0,0)\n",
        "cor_fundo = (200,255,0)\n",
        "cor_caixa = (200,255,0)\n",
        "tamanho_fonte = 18"
      ]
    },
    {
      "cell_type": "code",
      "execution_count": null,
      "metadata": {
        "colab": {
          "base_uri": "https://localhost:8080/",
          "height": 451
        },
        "id": "mBjVIi6bSFpU",
        "outputId": "6789b76f-5e8d-4c6d-e693-b09f9db9ba31"
      },
      "outputs": [],
      "source": [
        "for (caixa, texto, probabilidade) in resultados:\n",
        "  te, td, bd, be = coordenada_caixa(caixa)\n",
        "  img = desenha_caixa(img, te, bd, cor_caixa)\n",
        "  img = fundo_texto(texto, te[0], te[1], img, fonte, tamanho_fonte, cor_fundo)\n",
        "  img = escreve_texto(texto, te[0], te[1], img, fonte, cor_fonte, tamanho_fonte)\n",
        "imshow(img)"
      ]
    }
  ],
  "metadata": {
    "accelerator": "GPU",
    "colab": {
      "provenance": []
    },
    "kernelspec": {
      "display_name": "Python 3",
      "name": "python3"
    },
    "language_info": {
      "name": "python"
    }
  },
  "nbformat": 4,
  "nbformat_minor": 0
}
